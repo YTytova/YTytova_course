{
  "nbformat": 4,
  "nbformat_minor": 0,
  "metadata": {
    "colab": {
      "provenance": []
    },
    "kernelspec": {
      "name": "python3",
      "display_name": "Python 3"
    },
    "language_info": {
      "name": "python"
    }
  },
  "cells": [
    {
      "cell_type": "markdown",
      "source": [
        "В цьому домашньому завданні ми реалізуємо логістичну регресію на `numpy`.\n",
        "Ці завдання допоможуть вам ґрунтовно засвоїти основні концепції логістичної регресії та реалізувати їх на практиці 🔥\n",
        "\n",
        "#### Завдання 1: Реалізація функції сигмоїди\n",
        "1. З використанням `numpy` напишіть функцію `sigmoid(z)` для обчислення значення сигмоїди згідно з формулою:\n",
        "   $$\n",
        "   \\sigma(z) = \\frac{1}{1 + e^{-z}}\n",
        "   $$\n",
        "2. Використовуючи цю функцію, обчисліть значення сигмоїди для наступних даних: $ z = [-2, -1, 0, 1, 2] $. Виведіть результат обчислень.\n"
      ],
      "metadata": {
        "id": "KxRmdyv5CIZe"
      }
    },
    {
      "cell_type": "markdown",
      "source": [
        "Завдання 1.1"
      ],
      "metadata": {
        "id": "ZL6a2pNUZls3"
      }
    },
    {
      "cell_type": "code",
      "source": [
        "import numpy as np"
      ],
      "metadata": {
        "id": "v9ilfXulL2wP"
      },
      "execution_count": 4,
      "outputs": []
    },
    {
      "cell_type": "code",
      "source": [
        "def sigmoid(z):\n",
        "   return 1 / (1 + np.exp(-z))"
      ],
      "metadata": {
        "id": "9kstS4zPYeED"
      },
      "execution_count": 5,
      "outputs": []
    },
    {
      "cell_type": "markdown",
      "source": [
        "Завдання 1.2"
      ],
      "metadata": {
        "id": "guznkp0PZrtj"
      }
    },
    {
      "cell_type": "code",
      "source": [
        "print(sigmoid(np.array([-2,-1,0,1,2])))"
      ],
      "metadata": {
        "id": "e4fNjHddZULm",
        "outputId": "c6241837-7ad7-4ad8-bcf8-af4b3c96971e",
        "colab": {
          "base_uri": "https://localhost:8080/"
        }
      },
      "execution_count": 15,
      "outputs": [
        {
          "output_type": "stream",
          "name": "stdout",
          "text": [
            "[0.11920292 0.26894142 0.5        0.73105858 0.88079708]\n"
          ]
        }
      ]
    },
    {
      "cell_type": "markdown",
      "source": [
        "\n",
        "\n",
        "#### Завдання 2: Реалізація функції гіпотези для логістичної регресії\n",
        "1. Напишіть функцію `hypothesis(theta, X)`, яка обчислює гіпотезу для логістичної регресії, використовуючи функцію сигмоїди. Формула гіпотези:\n",
        "   $$\n",
        "   h_\\theta(x) = \\sigma(\\theta^T x) = \\frac{1}{1 + e^{-\\theta^T x}}\n",
        "   $$\n",
        "2. Використайте функцію `hypothesis` для обчислення значень гіпотези для наступних даних:\n",
        "   \n",
        "   $\\theta = [0.5, -0.5]$\n",
        "   \n",
        "   $X = \\begin{bmatrix} 1 & 2 \\\\ 1 & -1 \\\\ 1 & 0 \\\\ 1 & 1 \\end{bmatrix}$\n",
        "\n",
        "  Виведіть результат обчислень.\n"
      ],
      "metadata": {
        "id": "LVd_jCGNCR1F"
      }
    },
    {
      "cell_type": "markdown",
      "source": [
        "Завдання 2.1"
      ],
      "metadata": {
        "id": "nExa_zzycL1g"
      }
    },
    {
      "cell_type": "code",
      "source": [
        "def sigmoid(z):\n",
        "   return 1 / (1 + np.exp(-z))\n",
        "\n",
        "def hypothesis(X, theta):\n",
        "    return sigmoid(np.dot(X, theta)) #скалярний добуток кожного рядка ознак на вектор параметрів"
      ],
      "metadata": {
        "id": "dKDHv-YtL3TA"
      },
      "execution_count": 50,
      "outputs": []
    },
    {
      "cell_type": "markdown",
      "source": [
        "Завдання 2.2"
      ],
      "metadata": {
        "id": "L64bESIAcOBp"
      }
    },
    {
      "cell_type": "code",
      "source": [
        "X = np.array([\n",
        "    [1, 2],\n",
        "    [1, -1],\n",
        "    [1, 0],\n",
        "    [1, 1]\n",
        "])\n",
        "theta = np.array([0.5, -0.5])\n",
        "\n",
        "probabilities = hypothesis(X, theta)\n",
        "\n",
        "print(probabilities)"
      ],
      "metadata": {
        "id": "Ju1y1wWccP3f",
        "outputId": "a6b6849e-0349-44d8-e70e-b17a277af69a",
        "colab": {
          "base_uri": "https://localhost:8080/"
        }
      },
      "execution_count": 51,
      "outputs": [
        {
          "output_type": "stream",
          "name": "stdout",
          "text": [
            "[0.37754067 0.73105858 0.62245933 0.5       ]\n"
          ]
        }
      ]
    },
    {
      "cell_type": "markdown",
      "source": [
        "#### Завдання 3: Реалізація функції для підрахунку градієнтів фукнції втрат\n",
        "1. Напишіть функцію `compute_gradient(theta, X, y)`, яка обчислює градієнти функції втрат для логістичної регресії. Формула для обчислення градієнта:\n",
        "   $$\n",
        "   \\frac{\\partial L(\\theta)}{\\partial \\theta_j} = \\frac{1}{m} \\sum_{i=1}^{m} \\left[ (h_\\theta(x^{(i)}) - y^{(i)}) x_j^{(i)} \\right]\n",
        "   $$\n",
        "2. Використайте функцію `compute_gradient` для обчислення градієнтів для наступних даних:\n",
        "\n",
        "  $\\theta = [0.5, -0.5]$\n",
        "\n",
        "  $X = \\begin{bmatrix} 1 & 2 \\\\ 1 & -1 \\\\ 1 & 0 \\\\ 1 & 1 \\end{bmatrix}$\n",
        "\n",
        "  $y = [1, 0, 1, 0]$\n",
        "\n",
        "  Виведіть результат обчислень."
      ],
      "metadata": {
        "id": "MWASH4Z4ClTo"
      }
    },
    {
      "cell_type": "markdown",
      "source": [
        "Завдання 3.1"
      ],
      "metadata": {
        "id": "QJNY5syZeED5"
      }
    },
    {
      "cell_type": "code",
      "source": [
        "def compute_gradient(theta, X, y):\n",
        "    m = len(y)  # кількість спостережень\n",
        "    predictions = hypothesis(X, theta)\n",
        "    error = predictions - y\n",
        "    gradient = (1 / m) * np.dot(X.T, error)\n",
        "\n",
        "    return(gradient)"
      ],
      "metadata": {
        "id": "0DM4xqZCL32i"
      },
      "execution_count": 52,
      "outputs": []
    },
    {
      "cell_type": "markdown",
      "source": [
        "Завдання 3.2"
      ],
      "metadata": {
        "id": "6KniyXLyeET1"
      }
    },
    {
      "cell_type": "code",
      "source": [
        "y = np.array([1, 0, 1, 0])\n",
        "\n",
        "gradient = compute_gradient(theta, X, y)\n",
        "print(gradient)"
      ],
      "metadata": {
        "id": "fr57HqVbedoc",
        "outputId": "13503831-833c-404c-8e76-5bf9823ec08f",
        "colab": {
          "base_uri": "https://localhost:8080/"
        }
      },
      "execution_count": 53,
      "outputs": [
        {
          "output_type": "stream",
          "name": "stdout",
          "text": [
            "[ 0.05776464 -0.36899431]\n"
          ]
        }
      ]
    },
    {
      "cell_type": "markdown",
      "source": [
        "\n",
        "#### Завдання 4: Реалізація повного батч градієнтного спуску\n",
        "\n",
        "**Задача:**\n",
        "1. Напишіть функцію `full_batch_gradient_descent(X, y, lr=0.1, epochs=100)`, яка реалізує алгоритм Full градієнтного спуску для логістичної регресії. Використовуйте такі формули:\n",
        "   - Гіпотеза: $ h_\\theta(x) = \\sigma(\\theta^T x) $\n",
        "   - Оновлення параметрів: $ \\theta_j := \\theta_j - \\alpha \\frac{\\partial L(\\theta)}{\\partial \\theta_j} $\n",
        "2. Використайте функцію `full_batch_gradient_descent` для обчислення параметрів моделі на наступних даних:\n",
        "\n",
        "  $X = \\begin{bmatrix} 1 & 2 \\\\ 1 & -1 \\\\ 1 & 0 \\\\ 1 & 1 \\end{bmatrix}$\n",
        "\n",
        "  $y = [1, 0, 1, 0]$\n",
        "\n",
        "  Увага! Матриця $X$ вже має стовпець одиниць і передбачається, що це. - стовпець для intercept - параметра зсуву.\n",
        "\n",
        "  Виведіть результат обчислень.\n"
      ],
      "metadata": {
        "id": "nOtJEtdnC1K9"
      }
    },
    {
      "cell_type": "code",
      "source": [
        "def full_batch_gradient_descent(X, y, lr=0.1, epochs=100):\n",
        "    # Ініціалізація параметрів нулями\n",
        "    theta = np.zeros(X.shape[1])\n",
        "\n",
        "    # Для збереження історії помилок (опціонально)\n",
        "    loss_history = []\n",
        "\n",
        "    for epoch in range(epochs):\n",
        "        # Передбачення\n",
        "        predictions = hypothesis(X, theta)\n",
        "\n",
        "        # Функція втрат (log loss) для моніторингу\n",
        "        loss = -(1/len(y)) * np.sum(\n",
        "            y * np.log(predictions + 1e-15) + (1 - y) * np.log(1 - predictions + 1e-15)\n",
        "        )\n",
        "        loss_history.append(loss)\n",
        "\n",
        "        # Оновлення параметрів\n",
        "        theta = theta - lr * gradient\n",
        "\n",
        "        # Виведемо інформацію кожні 10 ітерацій (опціонально)\n",
        "        if epoch % 10 == 0 or epoch == epochs - 1:\n",
        "            print(f\"Epoch {epoch+1}: Loss = {loss:.4f}\")\n",
        "\n",
        "    return theta, loss_history"
      ],
      "metadata": {
        "id": "fHtUOTxXL4Yy"
      },
      "execution_count": 56,
      "outputs": []
    },
    {
      "cell_type": "code",
      "source": [
        "theta_final, loss_history = full_batch_gradient_descent(X, y, lr=0.1, epochs=100)\n",
        "\n",
        "print(theta_final)"
      ],
      "metadata": {
        "id": "S01qz6N8l5Sj",
        "outputId": "58cb543b-da05-462f-fdb0-1af168ae26c7",
        "colab": {
          "base_uri": "https://localhost:8080/"
        }
      },
      "execution_count": 57,
      "outputs": [
        {
          "output_type": "stream",
          "name": "stdout",
          "text": [
            "Epoch 1: Loss = 0.6931\n",
            "Epoch 11: Loss = 0.6239\n",
            "Epoch 21: Loss = 0.5970\n",
            "Epoch 31: Loss = 0.6040\n",
            "Epoch 41: Loss = 0.6359\n",
            "Epoch 51: Loss = 0.6850\n",
            "Epoch 61: Loss = 0.7459\n",
            "Epoch 71: Loss = 0.8148\n",
            "Epoch 81: Loss = 0.8892\n",
            "Epoch 91: Loss = 0.9675\n",
            "Epoch 100: Loss = 1.0403\n",
            "[-0.57764645  3.6899431 ]\n"
          ]
        }
      ]
    },
    {
      "cell_type": "markdown",
      "source": [
        "#### Завдання 5. Обчислення точності моделі\n",
        "\n",
        "1. Напишіть функцію `predict_proba(theta, X)`, яка використовує знайдені параметри $\\theta$ для обчислення ймовірностей належності поточного прикладу з даних до класу $y=1$ на основі значень $\\sigma(\\theta^T x)$.\n",
        "\n",
        "2. Напишіть функцію `predict(theta, X, threshold=0.5)`, яка обчислює клас з передбаченої імовірності належності екземпляра до класу 1 з порогом 0.5. Тобто якщо ймовірність менше 0.5, то передбачаємо клас 0, інакше клас 1.\n",
        "\n",
        "3. Напишіть функцію `accuracy(y_true, y_pred)`, яка обчислює точність моделі, визначивши частку правильно передбачених класів.\n",
        "\n",
        "  Формула метрики Accuracy:\n",
        "  $$\n",
        "  \\text{Accuracy} = \\frac{\\sum_{i=1}^{m} I(\\hat{{y}^{(i)}} = y^{(i)})}{m}\n",
        "  $$\n",
        "\n",
        "  де $\\hat{{y}^{(i)}}$ - передбачене значення класу, $I$ - індикаторна функція (яка дорівнює 1, якщо умова виконується, і 0 - якщо ні), $m$ - кількість прикладів.\n",
        "\n",
        "4. Обчисліть з використанням даних в завданні 4 $X$, $y$ та обчислених коефіцієнтах $\\theta$ та виведіть на екран:\n",
        "  - передбачені моделлю імовірності належності кожного з екземплярів в матриці `X` до класу 1\n",
        "  - класи кожного екземпляра з матриці `X`\n",
        "  - точність моделі."
      ],
      "metadata": {
        "id": "E4iZV55cE5f3"
      }
    },
    {
      "cell_type": "code",
      "source": [
        "#1\n",
        "def predict_proba(theta, X):\n",
        "    return sigmoid(np.dot(X, theta))\n",
        "\n",
        "proba = predict_proba(theta, X)\n",
        "print(proba)"
      ],
      "metadata": {
        "id": "85ZZfPtjrsai",
        "outputId": "0f7c3c01-3623-4537-90b6-a36c545a6caa",
        "colab": {
          "base_uri": "https://localhost:8080/"
        }
      },
      "execution_count": 62,
      "outputs": [
        {
          "output_type": "stream",
          "name": "stdout",
          "text": [
            "[0.37754067 0.73105858 0.62245933 0.5       ]\n"
          ]
        }
      ]
    },
    {
      "cell_type": "code",
      "source": [
        "#2\n",
        "def predict(theta, X, threshold=0.5):\n",
        "    probabilities = sigmoid(np.dot(X, theta))  # обчислюємо ймовірності\n",
        "    return (probabilities >= threshold).astype(int)  # повертаємо класи 0 або 1\n",
        "\n",
        "predict_1 = predict(theta, X, threshold=0.5)\n",
        "\n",
        "print(predict_1)"
      ],
      "metadata": {
        "id": "yHUhN76joMfx",
        "outputId": "bcaf9ef6-5560-4283-fedd-2381c88f9888",
        "colab": {
          "base_uri": "https://localhost:8080/"
        }
      },
      "execution_count": 69,
      "outputs": [
        {
          "output_type": "stream",
          "name": "stdout",
          "text": [
            "[0 1 1 1]\n"
          ]
        }
      ]
    },
    {
      "cell_type": "markdown",
      "source": [
        "До 1-го класу в нас відносяться обєкти, а саме [1, -1],\n",
        "    [1, 0],\n",
        "    [1, 1]"
      ],
      "metadata": {
        "id": "y6uObGc_rGL2"
      }
    },
    {
      "cell_type": "code",
      "source": [
        "#3\n",
        "def accuracy(y_true, y_pred):\n",
        "  return np.mean(y_true == y_pred)"
      ],
      "metadata": {
        "id": "OIN6AX_usUvZ"
      },
      "execution_count": 72,
      "outputs": []
    },
    {
      "cell_type": "code",
      "source": [
        "y_true = np.array([1, 0, 1, 0])\n",
        "y_pred = predict_1\n",
        "\n",
        "accurancy = accuracy(y_true, y_pred)\n",
        "print(accurancy)"
      ],
      "metadata": {
        "id": "HhkRc75PrQKa",
        "outputId": "8c17468f-b5a2-4609-b273-4e2f3d7de7d0",
        "colab": {
          "base_uri": "https://localhost:8080/"
        }
      },
      "execution_count": 74,
      "outputs": [
        {
          "output_type": "stream",
          "name": "stdout",
          "text": [
            "0.25\n"
          ]
        }
      ]
    },
    {
      "cell_type": "markdown",
      "source": [
        "у завданні 5 я додала розв'язок одразу під функціями"
      ],
      "metadata": {
        "id": "SPe6s8V2tWZU"
      }
    }
  ]
}