{
 "cells": [
  {
   "cell_type": "code",
   "execution_count": 1,
   "metadata": {
    "execution": {
     "iopub.execute_input": "2025-06-05T21:33:17.164910Z",
     "iopub.status.busy": "2025-06-05T21:33:17.162474Z",
     "iopub.status.idle": "2025-06-05T21:33:17.925493Z",
     "shell.execute_reply": "2025-06-05T21:33:17.925149Z",
     "shell.execute_reply.started": "2025-06-05T21:33:17.164840Z"
    }
   },
   "outputs": [],
   "source": [
    "import numpy as np\n",
    "from statsmodels.stats.weightstats import ztest"
   ]
  },
  {
   "cell_type": "markdown",
   "metadata": {
    "id": "ID3uSQHkQJ2J"
   },
   "source": [
    "В цьому ДЗ потренуємось виконувати Z-тести для тестування гіпотез в різних задачах. Для коректної імплементації та інтерпретації тестів рекоемндую переглянути спершу документацію:\n",
    "\n",
    "https://www.statsmodels.org/dev/generated/statsmodels.stats.weightstats.ztest.html\n",
    "\n",
    "### Завдання 1: Z-тест для однієї вибірки\n",
    "\n",
    "**Мета**: Перевірити, чи середнє значення вибірки відрізняється від гіпотетичного середнього.\n",
    "\n",
    "**Припущення**: Середній ріст студентів університету вважається 170 см. Ми хочемо перевірити, чи середній ріст випадкової вибірки студентів істотно більший. Вибірка задана в змінній `heights`.\n",
    "\n",
    "Для виконання завдання імпортуйте метод для проведення `ztest`, виконайте Z-тест з Python, виведіть p-value і зробіть заключення, чи справдилось припущення про середній зріст студентів на рівні значущості 0.05?\n",
    "\n",
    "Використовуємо тут Z-тест, оскільки вибірка достатньо велика (більше 30 екземплярів) і можемо вважати, що її стандартне відхилення близьке до ст. відхилення генеральної сукупності, а значить - відоме."
   ]
  },
  {
   "cell_type": "code",
   "execution_count": 5,
   "metadata": {
    "execution": {
     "iopub.execute_input": "2025-06-05T21:33:37.975601Z",
     "iopub.status.busy": "2025-06-05T21:33:37.975250Z",
     "iopub.status.idle": "2025-06-05T21:33:37.979430Z",
     "shell.execute_reply": "2025-06-05T21:33:37.978691Z",
     "shell.execute_reply.started": "2025-06-05T21:33:37.975579Z"
    },
    "id": "TUYNSCDzRE7N"
   },
   "outputs": [],
   "source": [
    "heights = [174, 171, 175, 179, 170, 170, 179, 175, 169, 174, 169, 169, 173, 162, 163, 169, 166,\n",
    "           173, 167, 164, 179, 170, 172, 164, 169, 175, 169, 174, 169, 169, 173, 162, 177]"
   ]
  },
  {
   "cell_type": "code",
   "execution_count": 7,
   "metadata": {
    "execution": {
     "iopub.execute_input": "2025-06-05T21:33:39.526800Z",
     "iopub.status.busy": "2025-06-05T21:33:39.526373Z",
     "iopub.status.idle": "2025-06-05T21:33:39.530149Z",
     "shell.execute_reply": "2025-06-05T21:33:39.529430Z",
     "shell.execute_reply.started": "2025-06-05T21:33:39.526773Z"
    }
   },
   "outputs": [],
   "source": [
    "alpha = 0.05"
   ]
  },
  {
   "cell_type": "code",
   "execution_count": 9,
   "metadata": {
    "execution": {
     "iopub.execute_input": "2025-06-05T21:33:39.959275Z",
     "iopub.status.busy": "2025-06-05T21:33:39.958845Z",
     "iopub.status.idle": "2025-06-05T21:33:39.969629Z",
     "shell.execute_reply": "2025-06-05T21:33:39.968732Z",
     "shell.execute_reply.started": "2025-06-05T21:33:39.959228Z"
    }
   },
   "outputs": [
    {
     "name": "stdout",
     "output_type": "stream",
     "text": [
      "z_stat: 0.848\n",
      "p_value: 0.198\n"
     ]
    }
   ],
   "source": [
    "z_stat, p_value = ztest(heights, value = 170, alternative='larger')\n",
    "print(f\"z_stat: {z_stat:.3f}\")\n",
    "print(f\"p_value: {p_value:.3f}\")"
   ]
  },
  {
   "cell_type": "code",
   "execution_count": 11,
   "metadata": {
    "execution": {
     "iopub.execute_input": "2025-06-05T21:33:40.465529Z",
     "iopub.status.busy": "2025-06-05T21:33:40.465191Z",
     "iopub.status.idle": "2025-06-05T21:33:40.471122Z",
     "shell.execute_reply": "2025-06-05T21:33:40.469977Z",
     "shell.execute_reply.started": "2025-06-05T21:33:40.465507Z"
    }
   },
   "outputs": [
    {
     "name": "stdout",
     "output_type": "stream",
     "text": [
      "Н0 не може бути відхилена.\n"
     ]
    }
   ],
   "source": [
    "if(p_value <  alpha):\n",
    "    print(\"Відхилити Н0.\")\n",
    "else:\n",
    "    print(\"Н0 не може бути відхилена.\")"
   ]
  },
  {
   "cell_type": "markdown",
   "metadata": {},
   "source": [
    "Висновок:\n",
    "За результатами проведеного тестування, ми отримали: z_stat: 0.848, p_value: 0.198.\n",
    "z-test проводився правосторонній, бо треба було визначити, чи середній ріст випадкової вибірки студентів істотно більший, тобто сер.знач. генеральної сукупності (вся популяція) > value(170) або >= value(170).\n",
    "Так як z_stat = 0.848, ми бачимо, що не дуже далеко від гіпотетичного value(170).\n",
    "p-value = 0.198 в нас ймовірність отримати таке або більше відхилення при умові, що нульова гіпотеза (Н0) вірна. Але в нас 0.198 > 0.05, тому висновок по p-value, такий що, Н0 не може бути відхилена."
   ]
  },
  {
   "cell_type": "markdown",
   "metadata": {
    "id": "ga4iKM9kQa9Q"
   },
   "source": [
    "### Завдання 2: Z-тест для двох незалежних вибірок\n",
    "\n",
    "**Завдання 2.1.**\n",
    "\n",
    "**Мета**: Перевірити, чи існує статистична різниця між середніми оцінками двох груп студентів.\n",
    "\n",
    "**Припущення**: Група A отримала новий навчальний курс, а група B продовжувала зі стандартним курсом. Ми перевіряємо, чи є новий курс ефективнішим.\n",
    "\n",
    "Виконайте Z-тест з Python, виведіть p-value і зробіть заключення, чи справдилось припущення щодо студентів на рівні значущості 0.05?"
   ]
  },
  {
   "cell_type": "code",
   "execution_count": 15,
   "metadata": {
    "execution": {
     "iopub.execute_input": "2025-06-05T21:33:41.772631Z",
     "iopub.status.busy": "2025-06-05T21:33:41.772280Z",
     "iopub.status.idle": "2025-06-05T21:33:41.777302Z",
     "shell.execute_reply": "2025-06-05T21:33:41.776643Z",
     "shell.execute_reply.started": "2025-06-05T21:33:41.772608Z"
    },
    "id": "SngJjNBJTgBp"
   },
   "outputs": [],
   "source": [
    "group_a_scores = [78.55, 72.25, 79.88, 75.  , 76.54, 74.99, 87.26, 77.93, 72.71,\n",
    "       82.11, 71.9 , 79.04, 68.2 , 71.36, 78.98, 81.69, 78.86, 77.42,\n",
    "       76.49, 70.61, 74.4 , 75.7 , 83.29, 79.72, 69.18, 79.62, 76.07,\n",
    "       74.62, 81.06, 83.15, 82.66, 73.8 , 76.45, 79.66, 82.88, 75.6 ,\n",
    "       77.07, 72.47, 72.02, 82.06]\n",
    "\n",
    "group_b_scores = [81.78, 74.64, 80.02, 76.81, 71.77, 76.81, 82.69, 74.82, 82.82,\n",
    "       61.9 , 79.11, 75.44, 73.5 , 75.46, 65.06, 73.9 , 76.79, 82.39,\n",
    "       72.41, 70.96, 72.49, 79.58, 76.64, 72.35, 77.57, 75.49, 79.84,\n",
    "       71.49, 73.36, 73.04, 67.68, 76.48, 76.31, 75.03, 73.83, 67.92,\n",
    "       72.9 , 73.29, 70.99, 74.19]"
   ]
  },
  {
   "cell_type": "code",
   "execution_count": 17,
   "metadata": {
    "execution": {
     "iopub.execute_input": "2025-06-05T21:33:42.177880Z",
     "iopub.status.busy": "2025-06-05T21:33:42.177659Z",
     "iopub.status.idle": "2025-06-05T21:33:42.181789Z",
     "shell.execute_reply": "2025-06-05T21:33:42.181222Z",
     "shell.execute_reply.started": "2025-06-05T21:33:42.177867Z"
    },
    "id": "CvftCAEHYPKL"
   },
   "outputs": [
    {
     "data": {
      "text/plain": [
       "(77.08125, 74.73875000000001)"
      ]
     },
     "execution_count": 17,
     "metadata": {},
     "output_type": "execute_result"
    }
   ],
   "source": [
    "np.mean(group_a_scores), np.mean(group_b_scores)"
   ]
  },
  {
   "cell_type": "code",
   "execution_count": 19,
   "metadata": {
    "execution": {
     "iopub.execute_input": "2025-06-05T21:33:42.552335Z",
     "iopub.status.busy": "2025-06-05T21:33:42.552176Z",
     "iopub.status.idle": "2025-06-05T21:33:42.554851Z",
     "shell.execute_reply": "2025-06-05T21:33:42.554576Z",
     "shell.execute_reply.started": "2025-06-05T21:33:42.552323Z"
    }
   },
   "outputs": [
    {
     "data": {
      "text/plain": [
       "(2.357354864751502, 0.018405648552528013)"
      ]
     },
     "execution_count": 19,
     "metadata": {},
     "output_type": "execute_result"
    }
   ],
   "source": [
    "ztest(group_a_scores, group_b_scores, alternative='two-sided')"
   ]
  },
  {
   "cell_type": "code",
   "execution_count": 21,
   "metadata": {
    "execution": {
     "iopub.execute_input": "2025-06-05T21:33:42.885622Z",
     "iopub.status.busy": "2025-06-05T21:33:42.884948Z",
     "iopub.status.idle": "2025-06-05T21:33:42.893161Z",
     "shell.execute_reply": "2025-06-05T21:33:42.892125Z",
     "shell.execute_reply.started": "2025-06-05T21:33:42.885584Z"
    }
   },
   "outputs": [
    {
     "data": {
      "text/plain": [
       "(2.357354864751502, 0.018405648552528013)"
      ]
     },
     "execution_count": 21,
     "metadata": {},
     "output_type": "execute_result"
    }
   ],
   "source": [
    "ztest(group_a_scores, group_b_scores, value = 0)"
   ]
  },
  {
   "cell_type": "markdown",
   "metadata": {},
   "source": [
    "Висновок:\n",
    "За результатами двусторонього проведеного z-тесту, ми отримали: z_test: 2.357, p_value: 0.0184.\n",
    "Оскільки p-value (0.0184) < 0.05, у нас є достатньо доказів, щоб відкинути нульову гіпотезу. Іншими словами, ми можемо сказати, що новий курс є ефективнішим. \n",
    "Результати самого z_test: 2.357, кажуть нам про те, що різниця між групами є статистично значуща і не є випадковою."
   ]
  },
  {
   "cell_type": "markdown",
   "metadata": {
    "id": "zOxz2tU0VpJM"
   },
   "source": [
    "**Завдання 2.2.**\n",
    "\n",
    "\n",
    "**Мета**: Побачити, як впливає розмір вибірок на результат тесту.\n",
    "\n",
    "**Завдання**: Уявіть, що з групи А ми маємо тільки перші 5 записів, а з групи В - усі. Таке могло статись, якщо ми вже маємо результати тестів учнів за попередньою програмою, а тести за новою програмою здали наразі лише 5 учнів і ми вирішили не чекати довше.\n",
    "Виберіть перші 5 записів для групи А і проведіть t-test (для цього використовуємо наступний [метод](https://docs.scipy.org/doc/scipy/reference/generated/scipy.stats.ttest_ind.html)). Виведіть значення p-value. Зробіть висновок, який результат ви бачите щодо стат. значущості на рівні 0.05 для цього експерименту?\n",
    "\n",
    "Тут проводимо t-test оскільки одна з вибірок - дуже мала."
   ]
  },
  {
   "cell_type": "code",
   "execution_count": 25,
   "metadata": {
    "execution": {
     "iopub.execute_input": "2025-06-05T21:33:44.097846Z",
     "iopub.status.busy": "2025-06-05T21:33:44.097500Z",
     "iopub.status.idle": "2025-06-05T21:33:44.101572Z",
     "shell.execute_reply": "2025-06-05T21:33:44.100502Z",
     "shell.execute_reply.started": "2025-06-05T21:33:44.097820Z"
    },
    "id": "D9znE6liYQmP"
   },
   "outputs": [],
   "source": [
    "group_a_scores_new = [78.55, 72.25, 79.88, 75.  , 76.54]"
   ]
  },
  {
   "cell_type": "code",
   "execution_count": 27,
   "metadata": {
    "execution": {
     "iopub.execute_input": "2025-06-05T21:33:44.446909Z",
     "iopub.status.busy": "2025-06-05T21:33:44.446548Z",
     "iopub.status.idle": "2025-06-05T21:33:44.452553Z",
     "shell.execute_reply": "2025-06-05T21:33:44.451482Z",
     "shell.execute_reply.started": "2025-06-05T21:33:44.446886Z"
    }
   },
   "outputs": [
    {
     "data": {
      "text/plain": [
       "76.444"
      ]
     },
     "execution_count": 27,
     "metadata": {},
     "output_type": "execute_result"
    }
   ],
   "source": [
    "np.mean(group_a_scores_new)"
   ]
  },
  {
   "cell_type": "code",
   "execution_count": 108,
   "metadata": {
    "execution": {
     "iopub.execute_input": "2025-06-05T22:08:11.534608Z",
     "iopub.status.busy": "2025-06-05T22:08:11.534270Z",
     "iopub.status.idle": "2025-06-05T22:08:11.543314Z",
     "shell.execute_reply": "2025-06-05T22:08:11.542451Z",
     "shell.execute_reply.started": "2025-06-05T22:08:11.534586Z"
    }
   },
   "outputs": [
    {
     "name": "stdout",
     "output_type": "stream",
     "text": [
      "t-статистика: 0.8167951030410814\n",
      "p-value: 0.4185479477535733\n"
     ]
    }
   ],
   "source": [
    "from scipy.stats import ttest_ind\n",
    "\n",
    "t_stat, p_value = ttest_ind(group_a_scores_new, group_b_scores)\n",
    "\n",
    "print(f\"t-статистика: {t_stat}\")\n",
    "print(f\"p-value: {p_value}\")\n"
   ]
  },
  {
   "cell_type": "code",
   "execution_count": 31,
   "metadata": {
    "execution": {
     "iopub.execute_input": "2025-06-05T21:33:45.398718Z",
     "iopub.status.busy": "2025-06-05T21:33:45.398200Z",
     "iopub.status.idle": "2025-06-05T21:33:45.403042Z",
     "shell.execute_reply": "2025-06-05T21:33:45.402091Z",
     "shell.execute_reply.started": "2025-06-05T21:33:45.398695Z"
    }
   },
   "outputs": [
    {
     "name": "stdout",
     "output_type": "stream",
     "text": [
      "Н0 не може бути відхилена.\n"
     ]
    }
   ],
   "source": [
    "if(p_value <  alpha):\n",
    "    print(\"Відхилити Н0.\")\n",
    "else:\n",
    "    print(\"Н0 не може бути відхилена.\")"
   ]
  },
  {
   "cell_type": "markdown",
   "metadata": {},
   "source": [
    "Висновок:\n",
    "Оскільки p-value = 0.4185 > 0.05, немає статистично значущої різниці між середніми оцінками груп. Нульова гіпотеза не відхиляється.\n",
    "\n",
    "Вплив на експеремент спостерігається такий, що зменшення вибірки повпливало на імовірність, що така різниця (було - p_value: 0.0184 / стало - p-value = 0.4185) могла виникнути випадково, стала великою. Як висновок, далі стверджувати, що новий курс став ефективніший ми не можемо. "
   ]
  },
  {
   "cell_type": "markdown",
   "metadata": {
    "id": "3TcRHLLz0SLw"
   },
   "source": [
    "\n",
    "### Завдання 3\\*: Z-тест для двох **пов'язаних** вибірок\n",
    "\n",
    "**Мета**: Перевірити, чи вплинув тренінг на продуктивність працівників, коли всі справробітники проходили тренінг.\n",
    "\n",
    "**Припущення**: Наші працівники проходять однаковий тренінг, і ми хочемо з'ясувати, чи покращилися їхні показники після тренінгу на рівні значущості 0.05. Виконайте Z-тест з Python, виведіть p-value і зробіть заключення, чи поліпшились показники працівників на рівні значущості 0.05?\n",
    "\n",
    "Зверніть увагу, ці вибірки повʼязані між собою, значить не буде коректно виконати z-test між ними, натомість, ми можемо порівняти, чи різниця в результатах (продуктивності співробітників) є стат значущою."
   ]
  },
  {
   "cell_type": "code",
   "execution_count": 35,
   "metadata": {
    "execution": {
     "iopub.execute_input": "2025-06-05T21:33:49.323580Z",
     "iopub.status.busy": "2025-06-05T21:33:49.323230Z",
     "iopub.status.idle": "2025-06-05T21:33:49.327866Z",
     "shell.execute_reply": "2025-06-05T21:33:49.327145Z",
     "shell.execute_reply.started": "2025-06-05T21:33:49.323557Z"
    },
    "id": "uxrjagJFW1GC"
   },
   "outputs": [],
   "source": [
    "before_training = [57.82, 37.63, 36.8 , 55.22, 52.97, 52.5 , 53.46, 43.2 , 52.32,\n",
    "       52.93, 42.86, 68.66, 54.74, 38.09, 56.57, 40.25, 57.87, 61.59,\n",
    "       41.79, 59.63, 54.13, 58.22, 68.97, 47.55, 42.46, 41.1 , 41.84,\n",
    "       49.23, 53.41, 52.77]\n",
    "\n",
    "after_training = [62.47, 40.66, 42.7 , 57.69, 61.41, 56.76, 54.75, 44.06, 56.29,\n",
    "       55.48, 47.28, 72.6 , 57.59, 39.39, 56.54, 42.36, 62.58, 65.01,\n",
    "       42.3 , 62.98, 57.9 , 59.45, 72.28, 50.66, 43.18, 44.82, 45.96,\n",
    "       54.4 , 58.52, 53.01]"
   ]
  },
  {
   "cell_type": "code",
   "execution_count": 70,
   "metadata": {
    "execution": {
     "iopub.execute_input": "2025-06-05T21:54:33.097351Z",
     "iopub.status.busy": "2025-06-05T21:54:33.096098Z",
     "iopub.status.idle": "2025-06-05T21:54:33.105087Z",
     "shell.execute_reply": "2025-06-05T21:54:33.104404Z",
     "shell.execute_reply.started": "2025-06-05T21:54:33.097292Z"
    }
   },
   "outputs": [],
   "source": [
    "before_training_update = np.array([57.82, 37.63, 36.8 , 55.22, 52.97, 52.5 , 53.46, 43.2 , 52.32,\n",
    "       52.93, 42.86, 68.66, 54.74, 38.09, 56.57, 40.25, 57.87, 61.59,\n",
    "       41.79, 59.63, 54.13, 58.22, 68.97, 47.55, 42.46, 41.1 , 41.84,\n",
    "       49.23, 53.41, 52.77])"
   ]
  },
  {
   "cell_type": "code",
   "execution_count": 72,
   "metadata": {
    "execution": {
     "iopub.execute_input": "2025-06-05T21:54:35.245877Z",
     "iopub.status.busy": "2025-06-05T21:54:35.245528Z",
     "iopub.status.idle": "2025-06-05T21:54:35.251837Z",
     "shell.execute_reply": "2025-06-05T21:54:35.250770Z",
     "shell.execute_reply.started": "2025-06-05T21:54:35.245854Z"
    }
   },
   "outputs": [],
   "source": [
    "after_training_update = np.array([62.47, 40.66, 42.7 , 57.69, 61.41, 56.76, 54.75, 44.06, 56.29,\n",
    "       55.48, 47.28, 72.6 , 57.59, 39.39, 56.54, 42.36, 62.58, 65.01,\n",
    "       42.3 , 62.98, 57.9 , 59.45, 72.28, 50.66, 43.18, 44.82, 45.96,\n",
    "       54.4 , 58.52, 53.01])"
   ]
  },
  {
   "cell_type": "code",
   "execution_count": 83,
   "metadata": {
    "execution": {
     "iopub.execute_input": "2025-06-05T21:55:04.229013Z",
     "iopub.status.busy": "2025-06-05T21:55:04.228675Z",
     "iopub.status.idle": "2025-06-05T21:55:04.233588Z",
     "shell.execute_reply": "2025-06-05T21:55:04.232983Z",
     "shell.execute_reply.started": "2025-06-05T21:55:04.228990Z"
    },
    "id": "NwCsN91OYSpN"
   },
   "outputs": [
    {
     "data": {
      "text/plain": [
       "array([ 4.65,  3.03,  5.9 ,  2.47,  8.44,  4.26,  1.29,  0.86,  3.97,\n",
       "        2.55,  4.42,  3.94,  2.85,  1.3 , -0.03,  2.11,  4.71,  3.42,\n",
       "        0.51,  3.35,  3.77,  1.23,  3.31,  3.11,  0.72,  3.72,  4.12,\n",
       "        5.17,  5.11,  0.24])"
      ]
     },
     "execution_count": 83,
     "metadata": {},
     "output_type": "execute_result"
    }
   ],
   "source": [
    "diff = after_training_update - before_training_update\n",
    "diff"
   ]
  },
  {
   "cell_type": "markdown",
   "metadata": {},
   "source": [
    "Після виведення різниці згідно проведеного тестування переходжу до тестування, використовуючи "
   ]
  },
  {
   "cell_type": "code",
   "execution_count": 85,
   "metadata": {
    "execution": {
     "iopub.execute_input": "2025-06-05T21:55:07.783663Z",
     "iopub.status.busy": "2025-06-05T21:55:07.783333Z",
     "iopub.status.idle": "2025-06-05T21:55:07.788462Z",
     "shell.execute_reply": "2025-06-05T21:55:07.787759Z",
     "shell.execute_reply.started": "2025-06-05T21:55:07.783642Z"
    }
   },
   "outputs": [
    {
     "data": {
      "text/plain": [
       "3.1499999999999995"
      ]
     },
     "execution_count": 85,
     "metadata": {},
     "output_type": "execute_result"
    }
   ],
   "source": [
    "mean_diff = np.mean(diff)\n",
    "mean_diff"
   ]
  },
  {
   "cell_type": "code",
   "execution_count": 96,
   "metadata": {
    "execution": {
     "iopub.execute_input": "2025-06-05T22:02:24.016444Z",
     "iopub.status.busy": "2025-06-05T22:02:24.014772Z",
     "iopub.status.idle": "2025-06-05T22:02:24.026270Z",
     "shell.execute_reply": "2025-06-05T22:02:24.025409Z",
     "shell.execute_reply.started": "2025-06-05T22:02:24.016298Z"
    }
   },
   "outputs": [],
   "source": [
    "std_diff = np.std(diff, ddof=0)\n",
    "z_stat = mean_diff / (std_diff / np.sqrt(30))"
   ]
  },
  {
   "cell_type": "code",
   "execution_count": 112,
   "metadata": {
    "execution": {
     "iopub.execute_input": "2025-06-05T22:20:42.296132Z",
     "iopub.status.busy": "2025-06-05T22:20:42.295085Z",
     "iopub.status.idle": "2025-06-05T22:20:42.310254Z",
     "shell.execute_reply": "2025-06-05T22:20:42.306015Z",
     "shell.execute_reply.started": "2025-06-05T22:20:42.296088Z"
    }
   },
   "outputs": [],
   "source": [
    "from scipy.stats import norm\n",
    "p_value = 1 - norm.cdf(z_stat) ##cdf — кумулятивна функція розподілу"
   ]
  },
  {
   "cell_type": "code",
   "execution_count": 114,
   "metadata": {
    "execution": {
     "iopub.execute_input": "2025-06-05T22:21:01.568591Z",
     "iopub.status.busy": "2025-06-05T22:21:01.568246Z",
     "iopub.status.idle": "2025-06-05T22:21:01.573142Z",
     "shell.execute_reply": "2025-06-05T22:21:01.572446Z",
     "shell.execute_reply.started": "2025-06-05T22:21:01.568567Z"
    }
   },
   "outputs": [
    {
     "data": {
      "text/plain": [
       "(9.29513192774473, 0.0)"
      ]
     },
     "execution_count": 114,
     "metadata": {},
     "output_type": "execute_result"
    }
   ],
   "source": [
    "z_stat, p_value"
   ]
  },
  {
   "cell_type": "markdown",
   "metadata": {},
   "source": [
    "Оскільки p-value (0.0) менше рівня значущості 0.05, ми відхиляємо нульову гіпотезу. Це свідчить про те, що після проходження тренінгу показники працівників статистично значущо покращилися. Можемо стверджувати, що є позитивний ефектк на продуктивність працівників."
   ]
  }
 ],
 "metadata": {
  "colab": {
   "provenance": []
  },
  "kernelspec": {
   "display_name": "Python 3 (ipykernel)",
   "language": "python",
   "name": "python3"
  },
  "language_info": {
   "codemirror_mode": {
    "name": "ipython",
    "version": 3
   },
   "file_extension": ".py",
   "mimetype": "text/x-python",
   "name": "python",
   "nbconvert_exporter": "python",
   "pygments_lexer": "ipython3",
   "version": "3.12.4"
  }
 },
 "nbformat": 4,
 "nbformat_minor": 4
}
