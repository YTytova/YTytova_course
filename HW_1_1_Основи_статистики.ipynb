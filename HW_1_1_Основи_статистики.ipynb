{
 "cells": [
  {
   "cell_type": "markdown",
   "metadata": {
    "id": "SDhaTqxcWhnP"
   },
   "source": [
    "В цьому домашньому завданні відпрацюємо з вами знання, отримані в модулі зі статистики.\n",
    "\n",
    "**Завдання 1.** Ми обговорили з Вами на лекції, що велика літера Сігма грецького алфавіту позначає в математиці суму. Знайдіть з використанням Python $\\Sigma x$, $\\Sigma x^2$, та $\\Sigma (x-1)^2$ для наступного набору даних:\n",
    "`1 3 4`\n",
    "Виведіть результат кожного обчислення на екран."
   ]
  },
  {
   "cell_type": "code",
   "execution_count": 3,
   "metadata": {
    "execution": {
     "iopub.execute_input": "2025-05-20T18:25:03.577481Z",
     "iopub.status.busy": "2025-05-20T18:25:03.577098Z",
     "iopub.status.idle": "2025-05-20T18:25:03.581377Z",
     "shell.execute_reply": "2025-05-20T18:25:03.580591Z",
     "shell.execute_reply.started": "2025-05-20T18:25:03.577459Z"
    }
   },
   "outputs": [],
   "source": [
    "x = [1,3,4]"
   ]
  },
  {
   "cell_type": "code",
   "execution_count": 5,
   "metadata": {
    "execution": {
     "iopub.execute_input": "2025-05-20T18:25:05.276744Z",
     "iopub.status.busy": "2025-05-20T18:25:05.276408Z",
     "iopub.status.idle": "2025-05-20T18:25:05.280521Z",
     "shell.execute_reply": "2025-05-20T18:25:05.279627Z",
     "shell.execute_reply.started": "2025-05-20T18:25:05.276722Z"
    }
   },
   "outputs": [],
   "source": [
    "sum_x=sum(x)\n",
    "sum_x2=sum(el**2 for el in x)\n",
    "sum_x_1_2=sum((el-1)**2 for el in x)"
   ]
  },
  {
   "cell_type": "code",
   "execution_count": 7,
   "metadata": {
    "execution": {
     "iopub.execute_input": "2025-05-20T18:25:06.102597Z",
     "iopub.status.busy": "2025-05-20T18:25:06.102031Z",
     "iopub.status.idle": "2025-05-20T18:25:06.107947Z",
     "shell.execute_reply": "2025-05-20T18:25:06.106717Z",
     "shell.execute_reply.started": "2025-05-20T18:25:06.102555Z"
    }
   },
   "outputs": [
    {
     "name": "stdout",
     "output_type": "stream",
     "text": [
      "∑x = 8\n",
      "∑x² = 26\n",
      "∑(x - 1)² = 13\n"
     ]
    }
   ],
   "source": [
    "print(\"∑x =\", sum_x)\n",
    "print(\"∑x² =\", sum_x2)\n",
    "print(\"∑(x - 1)² =\", sum_x_1_2)\n"
   ]
  },
  {
   "cell_type": "markdown",
   "metadata": {
    "id": "fa78aW5lhiia"
   },
   "source": [
    "**Завдання 2.** Ми зібрали дані про суму покупок в гривнях 20ма випадково обраними клієнтами в нашому магазині (всього клієнтів у нас більше) за минулий місяць. Вони представлені в змінній `sum_purchases`. Знайдіть **вибіркове середнє** для цих даних кожним з зазначених методів:   \n",
    "\n",
    "  2.1. без використання жодних бібліотек, користуючись тільки Python.  \n",
    "  2.2. використовуючи відповідний метод бібліотеки `numpy`.\n",
    "\n",
    "  Виведіть результат обчислень в кожному з випадків на екран та порівняйте результати. Вони співпадають?"
   ]
  },
  {
   "cell_type": "code",
   "execution_count": 10,
   "metadata": {
    "execution": {
     "iopub.execute_input": "2025-05-20T18:25:08.125042Z",
     "iopub.status.busy": "2025-05-20T18:25:08.124741Z",
     "iopub.status.idle": "2025-05-20T18:25:08.128262Z",
     "shell.execute_reply": "2025-05-20T18:25:08.127624Z",
     "shell.execute_reply.started": "2025-05-20T18:25:08.125022Z"
    },
    "id": "_9kMt3rq6V5m"
   },
   "outputs": [],
   "source": [
    "sum_purchases = [ 316,  493,  367,  153,  224,  121,  322,  450,  196,  397,  281,\n",
    "  239,  484,  124,  223,  448,  432,  255, 4310, 3524]"
   ]
  },
  {
   "cell_type": "code",
   "execution_count": 12,
   "metadata": {
    "execution": {
     "iopub.execute_input": "2025-05-20T18:25:08.897478Z",
     "iopub.status.busy": "2025-05-20T18:25:08.897183Z",
     "iopub.status.idle": "2025-05-20T18:25:08.900314Z",
     "shell.execute_reply": "2025-05-20T18:25:08.899684Z",
     "shell.execute_reply.started": "2025-05-20T18:25:08.897458Z"
    }
   },
   "outputs": [],
   "source": [
    "n_sum_purchases=len(sum_purchases)"
   ]
  },
  {
   "cell_type": "code",
   "execution_count": 14,
   "metadata": {
    "execution": {
     "iopub.execute_input": "2025-05-20T18:25:09.678945Z",
     "iopub.status.busy": "2025-05-20T18:25:09.678530Z",
     "iopub.status.idle": "2025-05-20T18:25:09.683736Z",
     "shell.execute_reply": "2025-05-20T18:25:09.682475Z",
     "shell.execute_reply.started": "2025-05-20T18:25:09.678903Z"
    },
    "id": "wPmL919HT1c0"
   },
   "outputs": [
    {
     "name": "stdout",
     "output_type": "stream",
     "text": [
      "667.95\n"
     ]
    }
   ],
   "source": [
    "#користуючись тільки Python\n",
    "mean_sum_purchases=sum(sum_purchases)/n_sum_purchases\n",
    "print(mean_sum_purchases)"
   ]
  },
  {
   "cell_type": "code",
   "execution_count": 16,
   "metadata": {
    "execution": {
     "iopub.execute_input": "2025-05-20T18:25:10.456882Z",
     "iopub.status.busy": "2025-05-20T18:25:10.456575Z",
     "iopub.status.idle": "2025-05-20T18:25:10.461587Z",
     "shell.execute_reply": "2025-05-20T18:25:10.460918Z",
     "shell.execute_reply.started": "2025-05-20T18:25:10.456861Z"
    }
   },
   "outputs": [
    {
     "data": {
      "text/plain": [
       "667.95"
      ]
     },
     "execution_count": 16,
     "metadata": {},
     "output_type": "execute_result"
    }
   ],
   "source": [
    "#бібліотеки numpy\n",
    "import numpy as np\n",
    "np.mean(sum_purchases)"
   ]
  },
  {
   "cell_type": "markdown",
   "metadata": {
    "id": "FMdoxZd0kZdW"
   },
   "source": [
    "**Завдання 3.** Для того ж набору даних в змінній `sum_purchases` обчисліть **медіану** кожним з зазначених методів:  \n",
    "\n",
    "  3.1. без використання жодних бібліотек, користуючись тільки Python.  \n",
    "  3.2. використовуючи відповідний метод бібліотеки numpy.  \n",
    "\n",
    "Виведіть результат обчислень в кожному з випадків на екран. Порівняйте результати зі значенням вибіркового середнього. Напишіть коментар, для яких задач ви б використовували вибіркове середнє, а для яких - медіану?"
   ]
  },
  {
   "cell_type": "code",
   "execution_count": 19,
   "metadata": {
    "execution": {
     "iopub.execute_input": "2025-05-20T18:25:12.000711Z",
     "iopub.status.busy": "2025-05-20T18:25:12.000382Z",
     "iopub.status.idle": "2025-05-20T18:25:12.006911Z",
     "shell.execute_reply": "2025-05-20T18:25:12.006102Z",
     "shell.execute_reply.started": "2025-05-20T18:25:12.000691Z"
    },
    "id": "x58BumvuT2nl"
   },
   "outputs": [
    {
     "data": {
      "text/plain": [
       "[121,\n",
       " 124,\n",
       " 153,\n",
       " 196,\n",
       " 223,\n",
       " 224,\n",
       " 239,\n",
       " 255,\n",
       " 281,\n",
       " 316,\n",
       " 322,\n",
       " 367,\n",
       " 397,\n",
       " 432,\n",
       " 448,\n",
       " 450,\n",
       " 484,\n",
       " 493,\n",
       " 3524,\n",
       " 4310]"
      ]
     },
     "execution_count": 19,
     "metadata": {},
     "output_type": "execute_result"
    }
   ],
   "source": [
    "sorted(sum_purchases)"
   ]
  },
  {
   "cell_type": "code",
   "execution_count": 21,
   "metadata": {
    "execution": {
     "iopub.execute_input": "2025-05-20T18:25:16.379072Z",
     "iopub.status.busy": "2025-05-20T18:25:16.378518Z",
     "iopub.status.idle": "2025-05-20T18:25:16.384168Z",
     "shell.execute_reply": "2025-05-20T18:25:16.383625Z",
     "shell.execute_reply.started": "2025-05-20T18:25:16.379044Z"
    }
   },
   "outputs": [
    {
     "data": {
      "text/plain": [
       "(9, 10)"
      ]
     },
     "execution_count": 21,
     "metadata": {},
     "output_type": "execute_result"
    }
   ],
   "source": [
    "#користуючись тільки Python\n",
    "len(sum_purchases)//2-1, len(sum_purchases)//2"
   ]
  },
  {
   "cell_type": "code",
   "execution_count": 23,
   "metadata": {
    "execution": {
     "iopub.execute_input": "2025-05-20T18:25:17.170112Z",
     "iopub.status.busy": "2025-05-20T18:25:17.169810Z",
     "iopub.status.idle": "2025-05-20T18:25:17.174775Z",
     "shell.execute_reply": "2025-05-20T18:25:17.174190Z",
     "shell.execute_reply.started": "2025-05-20T18:25:17.170092Z"
    }
   },
   "outputs": [
    {
     "data": {
      "text/plain": [
       "319.0"
      ]
     },
     "execution_count": 23,
     "metadata": {},
     "output_type": "execute_result"
    }
   ],
   "source": [
    "(sorted(sum_purchases)[len(sum_purchases)//2-1] + sorted(sum_purchases)[len(sum_purchases)//2])/2"
   ]
  },
  {
   "cell_type": "code",
   "execution_count": 25,
   "metadata": {
    "execution": {
     "iopub.execute_input": "2025-05-20T18:25:17.955828Z",
     "iopub.status.busy": "2025-05-20T18:25:17.955525Z",
     "iopub.status.idle": "2025-05-20T18:25:17.961123Z",
     "shell.execute_reply": "2025-05-20T18:25:17.960589Z",
     "shell.execute_reply.started": "2025-05-20T18:25:17.955808Z"
    }
   },
   "outputs": [
    {
     "data": {
      "text/plain": [
       "319.0"
      ]
     },
     "execution_count": 25,
     "metadata": {},
     "output_type": "execute_result"
    }
   ],
   "source": [
    "#бібліотеки numpy\n",
    "np.median(sum_purchases)"
   ]
  },
  {
   "cell_type": "markdown",
   "metadata": {
    "id": "o1Z7az2yNDQV"
   },
   "source": [
    "**Завдання 4**. Обчислість стандартне відхилення наведеної вибірки в змінній `sum_purchases` кожним з зазначених методів:  \n",
    "\n",
    "  4.1. без використання жодних бібліотек, користуючись тільки Python.  \n",
    "  4.2. використовуючи відповідний метод бібліотеки numpy.  \n",
    "\n",
    "Виведіть результат обчислень в кожному з випадків на екран."
   ]
  },
  {
   "cell_type": "code",
   "execution_count": 28,
   "metadata": {
    "execution": {
     "iopub.execute_input": "2025-05-20T18:25:19.524991Z",
     "iopub.status.busy": "2025-05-20T18:25:19.524442Z",
     "iopub.status.idle": "2025-05-20T18:25:19.532596Z",
     "shell.execute_reply": "2025-05-20T18:25:19.531686Z",
     "shell.execute_reply.started": "2025-05-20T18:25:19.524951Z"
    }
   },
   "outputs": [
    {
     "data": {
      "text/plain": [
       "[123868.80250000003,\n",
       " 30607.502500000017,\n",
       " 90570.90250000003,\n",
       " 265173.50250000006,\n",
       " 197091.60250000004,\n",
       " 299154.30250000005,\n",
       " 119681.40250000003,\n",
       " 47502.20250000002,\n",
       " 222736.80250000005,\n",
       " 73413.90250000003,\n",
       " 149730.30250000005,\n",
       " 183998.10250000004,\n",
       " 33837.602500000015,\n",
       " 295881.60250000004,\n",
       " 197980.50250000003,\n",
       " 48378.00250000002,\n",
       " 55672.40250000002,\n",
       " 170527.70250000004,\n",
       " 13264528.2025,\n",
       " 8157021.602500001]"
      ]
     },
     "execution_count": 28,
     "metadata": {},
     "output_type": "execute_result"
    }
   ],
   "source": [
    "#користуючись тільки Python\n",
    "x_minus_mean=[(el-mean_sum_purchases)**2 for el in sum_purchases]\n",
    "x_minus_mean"
   ]
  },
  {
   "cell_type": "code",
   "execution_count": 30,
   "metadata": {
    "execution": {
     "iopub.execute_input": "2025-05-20T18:25:23.544384Z",
     "iopub.status.busy": "2025-05-20T18:25:23.544021Z",
     "iopub.status.idle": "2025-05-20T18:25:23.549126Z",
     "shell.execute_reply": "2025-05-20T18:25:23.548559Z",
     "shell.execute_reply.started": "2025-05-20T18:25:23.544360Z"
    },
    "id": "X4ixtmL2T642"
   },
   "outputs": [
    {
     "data": {
      "text/plain": [
       "(1201367.8475000001, 1264597.7342105266)"
      ]
     },
     "execution_count": 30,
     "metadata": {},
     "output_type": "execute_result"
    }
   ],
   "source": [
    "var_x_general = sum(x_minus_mean)/len(sum_purchases)\n",
    "var_x_sample = sum(x_minus_mean)/(len(sum_purchases)-1)\n",
    "var_x_general, var_x_sample"
   ]
  },
  {
   "cell_type": "code",
   "execution_count": 32,
   "metadata": {
    "execution": {
     "iopub.execute_input": "2025-05-20T18:25:25.478271Z",
     "iopub.status.busy": "2025-05-20T18:25:25.477933Z",
     "iopub.status.idle": "2025-05-20T18:25:25.485432Z",
     "shell.execute_reply": "2025-05-20T18:25:25.484792Z",
     "shell.execute_reply.started": "2025-05-20T18:25:25.478249Z"
    }
   },
   "outputs": [
    {
     "data": {
      "text/plain": [
       "(1201367.8475000001, 1264597.7342105266)"
      ]
     },
     "execution_count": 32,
     "metadata": {},
     "output_type": "execute_result"
    }
   ],
   "source": [
    "#бібліотеки numpy\n",
    "np.var(sum_purchases), np.var(sum_purchases,ddof=1)"
   ]
  },
  {
   "cell_type": "markdown",
   "metadata": {
    "id": "M1ntKTjXLVlH"
   },
   "source": [
    "**Завдання 5**. Ми провели дослідження віку студентів-першокурсників. Виявилось, що\n",
    "- 10 студентів мають вік 16 років\n",
    "- 25 студентів - 17 років\n",
    "- 20 студентів - 18 років\n",
    "- 2 студенти - 20 років\n",
    "\n",
    "Обчислість середнє значення для цієї вибірки будь-яким способом - на чистому Python або з numpy - та виведіть результат на екран."
   ]
  },
  {
   "cell_type": "code",
   "execution_count": 35,
   "metadata": {
    "execution": {
     "iopub.execute_input": "2025-05-20T18:25:27.074246Z",
     "iopub.status.busy": "2025-05-20T18:25:27.073928Z",
     "iopub.status.idle": "2025-05-20T18:25:27.078393Z",
     "shell.execute_reply": "2025-05-20T18:25:27.077785Z",
     "shell.execute_reply.started": "2025-05-20T18:25:27.074226Z"
    },
    "id": "RdIU4M-7T8R4"
   },
   "outputs": [
    {
     "name": "stdout",
     "output_type": "stream",
     "text": [
      "[16, 16, 16, 16, 16, 16, 16, 16, 16, 16, 17, 17, 17, 17, 17, 17, 17, 17, 17, 17, 17, 17, 17, 17, 17, 17, 17, 17, 17, 17, 17, 17, 17, 17, 17, 18, 18, 18, 18, 18, 18, 18, 18, 18, 18, 18, 18, 18, 18, 18, 18, 18, 18, 18, 18, 20, 20]\n"
     ]
    }
   ],
   "source": [
    "sample=[16]*10+[17]*25+[18]*20+[20]*2\n",
    "print(sample)"
   ]
  },
  {
   "cell_type": "code",
   "execution_count": 37,
   "metadata": {
    "execution": {
     "iopub.execute_input": "2025-05-20T18:25:27.865587Z",
     "iopub.status.busy": "2025-05-20T18:25:27.865286Z",
     "iopub.status.idle": "2025-05-20T18:25:27.869518Z",
     "shell.execute_reply": "2025-05-20T18:25:27.868848Z",
     "shell.execute_reply.started": "2025-05-20T18:25:27.865567Z"
    }
   },
   "outputs": [
    {
     "data": {
      "text/plain": [
       "57"
      ]
     },
     "execution_count": 37,
     "metadata": {},
     "output_type": "execute_result"
    }
   ],
   "source": [
    "len(sample)"
   ]
  },
  {
   "cell_type": "code",
   "execution_count": 39,
   "metadata": {
    "execution": {
     "iopub.execute_input": "2025-05-20T18:25:28.670224Z",
     "iopub.status.busy": "2025-05-20T18:25:28.670025Z",
     "iopub.status.idle": "2025-05-20T18:25:28.672470Z",
     "shell.execute_reply": "2025-05-20T18:25:28.672045Z",
     "shell.execute_reply.started": "2025-05-20T18:25:28.670215Z"
    },
    "scrolled": true
   },
   "outputs": [
    {
     "name": "stdout",
     "output_type": "stream",
     "text": [
      "середній вік студентів-першокурсників 17.280701754385966\n"
     ]
    }
   ],
   "source": [
    "x_mean_st=np.mean(sample)\n",
    "print('середній вік студентів-першокурсників',x_mean_st)"
   ]
  },
  {
   "cell_type": "markdown",
   "metadata": {
    "id": "Xx8MFkkVM53z"
   },
   "source": [
    "**Завдання 6**. Крім даних про суму покупок, ми зібрали ще дані про кількість відвідувань кожного з кожного покупця, які знаходяться в змінній `visits`. Обчисліть коефіцієнт кореляції Пірсона для суми покупок і кількості відвідувань кожним з зазначених методів:  \n",
    "\n",
    "  6.1. без використання жодних бібліотек, користуючись тільки Python.  \n",
    "  6.2. використовуючи відповідний метод бібліотеки numpy.  \n",
    "  \n",
    "Виведіть результат на екран. Проаналізуйте результат.\n",
    "\n",
    "Виведіть додатково графік розсіювання викликавши код нижче і зробіть заключення, чи варто щось змінити при підрахунку кореляції, аби коефіцієнт Пірсона показував коректну оцінку лінійної залежності?"
   ]
  },
  {
   "cell_type": "code",
   "execution_count": 42,
   "metadata": {
    "execution": {
     "iopub.execute_input": "2025-05-20T18:25:30.280227Z",
     "iopub.status.busy": "2025-05-20T18:25:30.279925Z",
     "iopub.status.idle": "2025-05-20T18:25:30.283814Z",
     "shell.execute_reply": "2025-05-20T18:25:30.282670Z",
     "shell.execute_reply.started": "2025-05-20T18:25:30.280206Z"
    },
    "id": "4OIGBT7UOWhO"
   },
   "outputs": [],
   "source": [
    "visits = [ 6,  2, 10,  3,  9,  9,  2,  3,  6,  6, 10,  2,  5, 10,  3,  5,  4,\n",
    "        7,  4,  2]"
   ]
  },
  {
   "cell_type": "code",
   "execution_count": 44,
   "metadata": {
    "execution": {
     "iopub.execute_input": "2025-05-20T18:25:31.074377Z",
     "iopub.status.busy": "2025-05-20T18:25:31.074064Z",
     "iopub.status.idle": "2025-05-20T18:25:31.079201Z",
     "shell.execute_reply": "2025-05-20T18:25:31.078231Z",
     "shell.execute_reply.started": "2025-05-20T18:25:31.074356Z"
    }
   },
   "outputs": [
    {
     "data": {
      "text/plain": [
       "5.4"
      ]
     },
     "execution_count": 44,
     "metadata": {},
     "output_type": "execute_result"
    }
   ],
   "source": [
    "mean_visits=sum(visits)/len(visits)\n",
    "mean_visits"
   ]
  },
  {
   "cell_type": "code",
   "execution_count": 46,
   "metadata": {
    "execution": {
     "iopub.execute_input": "2025-05-20T18:25:31.870086Z",
     "iopub.status.busy": "2025-05-20T18:25:31.869527Z",
     "iopub.status.idle": "2025-05-20T18:25:31.877973Z",
     "shell.execute_reply": "2025-05-20T18:25:31.877016Z",
     "shell.execute_reply.started": "2025-05-20T18:25:31.870046Z"
    }
   },
   "outputs": [
    {
     "data": {
      "text/plain": [
       "(1096.0692713054227, 1124.5433447451132)"
      ]
     },
     "execution_count": 46,
     "metadata": {},
     "output_type": "execute_result"
    }
   ],
   "source": [
    "#sum_purchases\n",
    "x_minus_mean = [(el - mean_sum_purchases)**2 for el in sum_purchases]\n",
    "std_x_general = np.sqrt(sum(x_minus_mean)/len(sum_purchases))\n",
    "std_x_sample = np.sqrt(sum(x_minus_mean)/(len(sum_purchases)-1))\n",
    "std_x_general, std_x_sample"
   ]
  },
  {
   "cell_type": "code",
   "execution_count": 48,
   "metadata": {
    "execution": {
     "iopub.execute_input": "2025-05-20T18:25:32.669348Z",
     "iopub.status.busy": "2025-05-20T18:25:32.669007Z",
     "iopub.status.idle": "2025-05-20T18:25:32.676079Z",
     "shell.execute_reply": "2025-05-20T18:25:32.675218Z",
     "shell.execute_reply.started": "2025-05-20T18:25:32.669325Z"
    }
   },
   "outputs": [
    {
     "data": {
      "text/plain": [
       "(2.8354893757515653, 2.9091507170885533)"
      ]
     },
     "execution_count": 48,
     "metadata": {},
     "output_type": "execute_result"
    }
   ],
   "source": [
    "#visits\n",
    "y_minus_mean = [(el - mean_visits)**2 for el in visits]\n",
    "std_y_general = np.sqrt(sum(y_minus_mean)/len(visits))\n",
    "std_y_sample = np.sqrt(sum(y_minus_mean)/(len(visits)-1))\n",
    "std_y_general, std_y_sample"
   ]
  },
  {
   "cell_type": "code",
   "execution_count": 50,
   "metadata": {
    "execution": {
     "iopub.execute_input": "2025-05-20T18:25:33.473569Z",
     "iopub.status.busy": "2025-05-20T18:25:33.473005Z",
     "iopub.status.idle": "2025-05-20T18:25:33.478417Z",
     "shell.execute_reply": "2025-05-20T18:25:33.477451Z",
     "shell.execute_reply.started": "2025-05-20T18:25:33.473528Z"
    }
   },
   "outputs": [],
   "source": [
    "n_x = len(sum_purchases)\n",
    "n_y = len(visits)"
   ]
  },
  {
   "cell_type": "code",
   "execution_count": 52,
   "metadata": {
    "execution": {
     "iopub.execute_input": "2025-05-20T18:25:34.271564Z",
     "iopub.status.busy": "2025-05-20T18:25:34.271263Z",
     "iopub.status.idle": "2025-05-20T18:25:34.276891Z",
     "shell.execute_reply": "2025-05-20T18:25:34.275865Z",
     "shell.execute_reply.started": "2025-05-20T18:25:34.271544Z"
    }
   },
   "outputs": [
    {
     "data": {
      "text/plain": [
       "(667.95, 5.4)"
      ]
     },
     "execution_count": 52,
     "metadata": {},
     "output_type": "execute_result"
    }
   ],
   "source": [
    "mean_x = sum(sum_purchases)/n_x\n",
    "mean_y = sum(visits)/n_y\n",
    "mean_x, mean_y"
   ]
  },
  {
   "cell_type": "code",
   "execution_count": 54,
   "metadata": {
    "execution": {
     "iopub.execute_input": "2025-05-20T18:25:35.052780Z",
     "iopub.status.busy": "2025-05-20T18:25:35.052216Z",
     "iopub.status.idle": "2025-05-20T18:25:35.060184Z",
     "shell.execute_reply": "2025-05-20T18:25:35.059501Z",
     "shell.execute_reply.started": "2025-05-20T18:25:35.052739Z"
    }
   },
   "outputs": [
    {
     "data": {
      "text/plain": [
       "-990.1368421052633"
      ]
     },
     "execution_count": 54,
     "metadata": {},
     "output_type": "execute_result"
    }
   ],
   "source": [
    "xy = [ (sum_purchases[i] - mean_x)*(visits[i] - mean_y) for i in range (len(sum_purchases))]\n",
    "\n",
    "cov_xy = sum(xy)/(len(sum_purchases)-1)\n",
    "cov_xy"
   ]
  },
  {
   "cell_type": "code",
   "execution_count": 56,
   "metadata": {
    "execution": {
     "iopub.execute_input": "2025-05-20T18:25:35.846045Z",
     "iopub.status.busy": "2025-05-20T18:25:35.845734Z",
     "iopub.status.idle": "2025-05-20T18:25:35.850049Z",
     "shell.execute_reply": "2025-05-20T18:25:35.849428Z",
     "shell.execute_reply.started": "2025-05-20T18:25:35.846025Z"
    }
   },
   "outputs": [
    {
     "data": {
      "text/plain": [
       "-0.30265844687666454"
      ]
     },
     "execution_count": 56,
     "metadata": {},
     "output_type": "execute_result"
    }
   ],
   "source": [
    "cov_xy / (std_x_sample * std_y_sample)"
   ]
  },
  {
   "cell_type": "code",
   "execution_count": 58,
   "metadata": {
    "execution": {
     "iopub.execute_input": "2025-05-20T18:25:36.632920Z",
     "iopub.status.busy": "2025-05-20T18:25:36.632356Z",
     "iopub.status.idle": "2025-05-20T18:25:36.642478Z",
     "shell.execute_reply": "2025-05-20T18:25:36.641910Z",
     "shell.execute_reply.started": "2025-05-20T18:25:36.632878Z"
    }
   },
   "outputs": [
    {
     "data": {
      "text/plain": [
       "array([[ 1.        , -0.30265845],\n",
       "       [-0.30265845,  1.        ]])"
      ]
     },
     "execution_count": 58,
     "metadata": {},
     "output_type": "execute_result"
    }
   ],
   "source": [
    "np.corrcoef(sum_purchases,visits)"
   ]
  },
  {
   "cell_type": "code",
   "execution_count": 60,
   "metadata": {
    "execution": {
     "iopub.execute_input": "2025-05-20T18:25:37.417380Z",
     "iopub.status.busy": "2025-05-20T18:25:37.416820Z",
     "iopub.status.idle": "2025-05-20T18:25:37.422098Z",
     "shell.execute_reply": "2025-05-20T18:25:37.420929Z",
     "shell.execute_reply.started": "2025-05-20T18:25:37.417339Z"
    }
   },
   "outputs": [],
   "source": [
    "#vs2"
   ]
  },
  {
   "cell_type": "code",
   "execution_count": 62,
   "metadata": {
    "execution": {
     "iopub.execute_input": "2025-05-20T18:25:38.201334Z",
     "iopub.status.busy": "2025-05-20T18:25:38.200776Z",
     "iopub.status.idle": "2025-05-20T18:25:38.207560Z",
     "shell.execute_reply": "2025-05-20T18:25:38.206699Z",
     "shell.execute_reply.started": "2025-05-20T18:25:38.201293Z"
    }
   },
   "outputs": [
    {
     "data": {
      "text/plain": [
       "20"
      ]
     },
     "execution_count": 62,
     "metadata": {},
     "output_type": "execute_result"
    }
   ],
   "source": [
    "n = len(visits)\n",
    "n"
   ]
  },
  {
   "cell_type": "code",
   "execution_count": 64,
   "metadata": {
    "execution": {
     "iopub.execute_input": "2025-05-20T18:25:38.984783Z",
     "iopub.status.busy": "2025-05-20T18:25:38.984469Z",
     "iopub.status.idle": "2025-05-20T18:25:38.991430Z",
     "shell.execute_reply": "2025-05-20T18:25:38.990673Z",
     "shell.execute_reply.started": "2025-05-20T18:25:38.984762Z"
    }
   },
   "outputs": [
    {
     "data": {
      "text/plain": [
       "(5.4, 667.95)"
      ]
     },
     "execution_count": 64,
     "metadata": {},
     "output_type": "execute_result"
    }
   ],
   "source": [
    "mean_x = sum(visits) / n\n",
    "mean_y = sum(sum_purchases) / n\n",
    "mean_x, mean_y"
   ]
  },
  {
   "cell_type": "code",
   "execution_count": 66,
   "metadata": {
    "execution": {
     "iopub.execute_input": "2025-05-20T18:25:39.753842Z",
     "iopub.status.busy": "2025-05-20T18:25:39.753531Z",
     "iopub.status.idle": "2025-05-20T18:25:39.758454Z",
     "shell.execute_reply": "2025-05-20T18:25:39.757669Z",
     "shell.execute_reply.started": "2025-05-20T18:25:39.753820Z"
    }
   },
   "outputs": [
    {
     "data": {
      "text/plain": [
       "-940.6300000000001"
      ]
     },
     "execution_count": 66,
     "metadata": {},
     "output_type": "execute_result"
    }
   ],
   "source": [
    "cov_xy = sum((x - mean_x) * (y - mean_y) for x, y in zip(visits, sum_purchases)) / n\n",
    "cov_xy"
   ]
  },
  {
   "cell_type": "code",
   "execution_count": 68,
   "metadata": {
    "execution": {
     "iopub.execute_input": "2025-05-20T18:25:40.533722Z",
     "iopub.status.busy": "2025-05-20T18:25:40.533404Z",
     "iopub.status.idle": "2025-05-20T18:25:40.541414Z",
     "shell.execute_reply": "2025-05-20T18:25:40.540387Z",
     "shell.execute_reply.started": "2025-05-20T18:25:40.533699Z"
    }
   },
   "outputs": [
    {
     "data": {
      "text/plain": [
       "(2.8354893757515653, 1096.0692713054227)"
      ]
     },
     "execution_count": 68,
     "metadata": {},
     "output_type": "execute_result"
    }
   ],
   "source": [
    "std_x = (sum((x - mean_x) ** 2 for x in visits) / n) ** 0.5\n",
    "std_y = (sum((y - mean_y) ** 2 for y in sum_purchases) / n) ** 0.5\n",
    "std_x, std_y"
   ]
  },
  {
   "cell_type": "code",
   "execution_count": 70,
   "metadata": {
    "execution": {
     "iopub.execute_input": "2025-05-20T18:25:41.317351Z",
     "iopub.status.busy": "2025-05-20T18:25:41.317052Z",
     "iopub.status.idle": "2025-05-20T18:25:41.321575Z",
     "shell.execute_reply": "2025-05-20T18:25:41.320824Z",
     "shell.execute_reply.started": "2025-05-20T18:25:41.317330Z"
    }
   },
   "outputs": [
    {
     "name": "stdout",
     "output_type": "stream",
     "text": [
      "Коефіцієнт Пірсона (NumPy): -0.3027\n"
     ]
    }
   ],
   "source": [
    "pearson_r = cov_xy / (std_x * std_y)\n",
    "print(\"Коефіцієнт Пірсона (NumPy):\", round(pearson_r, 4))"
   ]
  },
  {
   "cell_type": "code",
   "execution_count": 94,
   "metadata": {
    "execution": {
     "iopub.execute_input": "2025-05-20T18:39:08.778212Z",
     "iopub.status.busy": "2025-05-20T18:39:08.776607Z",
     "iopub.status.idle": "2025-05-20T18:39:08.794704Z",
     "shell.execute_reply": "2025-05-20T18:39:08.793869Z",
     "shell.execute_reply.started": "2025-05-20T18:39:08.778161Z"
    }
   },
   "outputs": [
    {
     "name": "stdout",
     "output_type": "stream",
     "text": [
      "Коефіцієнт Пірсона (NumPy): -0.3027\n"
     ]
    }
   ],
   "source": [
    "visits_np = np.array(visits)\n",
    "purchases_np = np.array(sum_purchases)\n",
    "\n",
    "pearson_np = np.corrcoef(visits_np, purchases_np)[0, 1]\n",
    "print(\"Коефіцієнт Пірсона (NumPy):\", round(pearson_np, 4))\n"
   ]
  },
  {
   "cell_type": "code",
   "execution_count": null,
   "metadata": {},
   "outputs": [],
   "source": []
  },
  {
   "cell_type": "code",
   "execution_count": 96,
   "metadata": {
    "execution": {
     "iopub.execute_input": "2025-05-20T18:39:24.720028Z",
     "iopub.status.busy": "2025-05-20T18:39:24.719528Z",
     "iopub.status.idle": "2025-05-20T18:39:24.727957Z",
     "shell.execute_reply": "2025-05-20T18:39:24.726705Z",
     "shell.execute_reply.started": "2025-05-20T18:39:24.719994Z"
    }
   },
   "outputs": [
    {
     "name": "stdout",
     "output_type": "stream",
     "text": [
      "Коефіцієнт Пірсона (NumPy): -0.3027\n"
     ]
    }
   ],
   "source": [
    "import numpy as np\n",
    "\n",
    "visits_np = np.array(visits)\n",
    "purchases_np = np.array(sum_purchases)\n",
    "\n",
    "pearson_np = np.corrcoef(visits_np, purchases_np)[0, 1]\n",
    "print(\"Коефіцієнт Пірсона (NumPy):\", round(pearson_np, 4))\n"
   ]
  },
  {
   "cell_type": "code",
   "execution_count": 77,
   "metadata": {
    "colab": {
     "base_uri": "https://localhost:8080/",
     "height": 472
    },
    "execution": {
     "iopub.execute_input": "2025-05-20T18:25:46.712092Z",
     "iopub.status.busy": "2025-05-20T18:25:46.711455Z",
     "iopub.status.idle": "2025-05-20T18:25:47.139679Z",
     "shell.execute_reply": "2025-05-20T18:25:47.139177Z",
     "shell.execute_reply.started": "2025-05-20T18:25:46.712062Z"
    },
    "id": "gaeoGA-5Prr1",
    "outputId": "0c910a7f-0e96-449a-881d-1efa453b3c8d"
   },
   "outputs": [
    {
     "data": {
      "image/png": "[encoded data removed]",
      "text/plain": [
       "<Figure size 640x480 with 1 Axes>"
      ]
     },
     "metadata": {},
     "output_type": "display_data"
    }
   ],
   "source": [
    "import matplotlib.pyplot as plt\n",
    "\n",
    "plt.scatter(sum_purchases, visits)\n",
    "plt.title('Scatter Plot of Purchases vs. Visits')\n",
    "plt.xlabel('Sum of Purchases')\n",
    "plt.ylabel('Number of Visits');"
   ]
  },
  {
   "cell_type": "code",
   "execution_count": 90,
   "metadata": {
    "execution": {
     "iopub.execute_input": "2025-05-20T18:34:25.149570Z",
     "iopub.status.busy": "2025-05-20T18:34:25.145701Z",
     "iopub.status.idle": "2025-05-20T18:34:25.163552Z",
     "shell.execute_reply": "2025-05-20T18:34:25.162799Z",
     "shell.execute_reply.started": "2025-05-20T18:34:25.149443Z"
    }
   },
   "outputs": [],
   "source": [
    "##Висновки:для коректної оцінки коефіцієнту Пірсона, треба врахувати пару випадків, коли покупці робили покупку на високі суми, що суттєво впливає на розрахунок кореляції.Враховуючи малу кількість покупців, що спричинило зниження коефіцієнта. "
   ]
  },
  {
   "cell_type": "markdown",
   "metadata": {
    "id": "4pEg0KzSQ6KA"
   },
   "source": [
    "**Завдання 7**. В попередньому завданні ми помітили, що викиди нам заважають отримати \"правдиве\" значення кореляції. Давайте вилучимо записи, які відповідають значенням з викидами в сумі покупок і обчисліть коеф. кореляції. Для цього поставте `threshold`, який дорінює середньому значенню + 2 стандартних вдіхилля суми покупок і всі значення, які більше за нього, будемо вважати викидами (є і інші правила для визначення викидів - з ним и познайомимось пізніше).\n",
    "\n",
    "Вилучіть значення з обох масивів і обчисліть коеф. кореляції Пірсона з допомогою `numpy` для кількості візитів і суми покупок без записів-викидів. Виведіть результат на екран, побудуйте діаграму розсіювання і проаналізуйте результат: що можемо сказати про залежність в даних?"
   ]
  },
  {
   "cell_type": "code",
   "execution_count": 92,
   "metadata": {
    "execution": {
     "iopub.execute_input": "2025-05-20T18:37:16.878015Z",
     "iopub.status.busy": "2025-05-20T18:37:16.876502Z",
     "iopub.status.idle": "2025-05-20T18:37:16.886913Z",
     "shell.execute_reply": "2025-05-20T18:37:16.885931Z",
     "shell.execute_reply.started": "2025-05-20T18:37:16.877932Z"
    },
    "id": "Yj3Yfaf7UBbc"
   },
   "outputs": [],
   "source": [
    "threshold = 1000"
   ]
  },
  {
   "cell_type": "code",
   "execution_count": 120,
   "metadata": {
    "execution": {
     "iopub.execute_input": "2025-05-20T18:44:02.015406Z",
     "iopub.status.busy": "2025-05-20T18:44:02.014804Z",
     "iopub.status.idle": "2025-05-20T18:44:02.021613Z",
     "shell.execute_reply": "2025-05-20T18:44:02.020567Z",
     "shell.execute_reply.started": "2025-05-20T18:44:02.015365Z"
    }
   },
   "outputs": [],
   "source": [
    "visits = np.array(visits)\n",
    "sum_purchases = np.array(sum_purchases)"
   ]
  },
  {
   "cell_type": "code",
   "execution_count": 122,
   "metadata": {
    "execution": {
     "iopub.execute_input": "2025-05-20T18:44:04.200782Z",
     "iopub.status.busy": "2025-05-20T18:44:04.200235Z",
     "iopub.status.idle": "2025-05-20T18:44:04.204473Z",
     "shell.execute_reply": "2025-05-20T18:44:04.203201Z",
     "shell.execute_reply.started": "2025-05-20T18:44:04.200759Z"
    }
   },
   "outputs": [],
   "source": [
    "mask = sum_purchases < threshold"
   ]
  },
  {
   "cell_type": "code",
   "execution_count": 124,
   "metadata": {
    "execution": {
     "iopub.execute_input": "2025-05-20T18:44:05.069737Z",
     "iopub.status.busy": "2025-05-20T18:44:05.069282Z",
     "iopub.status.idle": "2025-05-20T18:44:05.074361Z",
     "shell.execute_reply": "2025-05-20T18:44:05.073749Z",
     "shell.execute_reply.started": "2025-05-20T18:44:05.069703Z"
    }
   },
   "outputs": [],
   "source": [
    "filtered_visits = visits[mask]\n",
    "filtered_purchases = sum_purchases[mask]"
   ]
  },
  {
   "cell_type": "code",
   "execution_count": 126,
   "metadata": {
    "execution": {
     "iopub.execute_input": "2025-05-20T18:44:05.848312Z",
     "iopub.status.busy": "2025-05-20T18:44:05.847985Z",
     "iopub.status.idle": "2025-05-20T18:44:05.853692Z",
     "shell.execute_reply": "2025-05-20T18:44:05.852629Z",
     "shell.execute_reply.started": "2025-05-20T18:44:05.848289Z"
    }
   },
   "outputs": [
    {
     "name": "stdout",
     "output_type": "stream",
     "text": [
      "Коефіцієнт Пірсона без викидів: 0.972\n"
     ]
    }
   ],
   "source": [
    "pearson_r = np.corrcoef(filtered_visits, filtered_purchases)[0, 1]\n",
    "\n",
    "print(\"Коефіцієнт Пірсона без викидів:\", round(pearson_r, 4))"
   ]
  },
  {
   "cell_type": "code",
   "execution_count": 134,
   "metadata": {
    "execution": {
     "iopub.execute_input": "2025-05-20T18:46:42.899899Z",
     "iopub.status.busy": "2025-05-20T18:46:42.899545Z",
     "iopub.status.idle": "2025-05-20T18:46:43.015729Z",
     "shell.execute_reply": "2025-05-20T18:46:43.015000Z",
     "shell.execute_reply.started": "2025-05-20T18:46:42.899878Z"
    }
   },
   "outputs": [
    {
     "data": {
      "image/png": "[encoded data removed]",
      "text/plain": [
       "<Figure size 640x480 with 1 Axes>"
      ]
     },
     "metadata": {},
     "output_type": "display_data"
    }
   ],
   "source": [
    "import matplotlib.pyplot as plt\n",
    "\n",
    "plt.scatter(filtered_purchases, filtered_visits)\n",
    "plt.title('Scatter Plot of Purchases vs. Visits')\n",
    "plt.xlabel('Sum of Purchases')\n",
    "plt.ylabel('Number of Visits');"
   ]
  },
  {
   "cell_type": "code",
   "execution_count": null,
   "metadata": {},
   "outputs": [],
   "source": [
    "##Висновок: після очищення даних від викидів, ми спостерігаємо більш логічну картину візитів та сум покупок. Бачимо, що з кожним візитом росте сума покупок, що вказує на позитивну лінію залежностей"
   ]
  }
 ],
 "metadata": {
  "colab": {
   "provenance": []
  },
  "kernelspec": {
   "display_name": "Python 3 (ipykernel)",
   "language": "python",
   "name": "python3"
  },
  "language_info": {
   "codemirror_mode": {
    "name": "ipython",
    "version": 3
   },
   "file_extension": ".py",
   "mimetype": "text/x-python",
   "name": "python",
   "nbconvert_exporter": "python",
   "pygments_lexer": "ipython3",
   "version": "3.12.4"
  }
 },
 "nbformat": 4,
 "nbformat_minor": 4
}
