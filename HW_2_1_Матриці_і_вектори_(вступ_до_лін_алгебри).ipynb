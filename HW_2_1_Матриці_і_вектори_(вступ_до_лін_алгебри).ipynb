{
  "nbformat": 4,
  "nbformat_minor": 0,
  "metadata": {
    "colab": {
      "provenance": []
    },
    "kernelspec": {
      "name": "python3",
      "display_name": "Python 3"
    },
    "language_info": {
      "name": "python"
    }
  },
  "cells": [
    {
      "cell_type": "markdown",
      "source": [
        "### Завдання 1: Створення матриць та векторів\n",
        "1. Створіть `numpy` вектор `vector` розмірністю 10 з випадковими дійсними значеннями в діапазоні від 0 до 1. Можна скористатись двома альтернативними варіантами:\n",
        "  1. Генерація випадкових чисел з модулем [`random.uniform`](https://docs.python.org/3/library/random.html).\n",
        "  2. Створення вектора з допомогою метода `numpy` [np.random.rand](https://numpy.org/doc/stable/reference/random/generated/numpy.random.rand.html)\n",
        "\n",
        "2. Створіть матрицю `matrix` типу `numpy.array` розмірності 3x3 з наступними значеннями\n",
        "\n",
        "  $$\n",
        "  matrix = \\begin{bmatrix}\n",
        "  11 & 14 & 17 \\\\\n",
        "  20 & 23 & 26 \\\\\n",
        "  29 & 32 & 35\n",
        "  \\end{bmatrix}\n",
        "  $$\n",
        "\n",
        "  будь-яким відомими Вам способом.\n",
        "\n",
        "Виведіть на екран вектор і матрицю, а також їх розміри.\n"
      ],
      "metadata": {
        "id": "efug1V4CM0lT"
      }
    },
    {
      "cell_type": "code",
      "source": [
        "# перше завдання\n",
        "\n",
        "import numpy as np\n",
        "\n",
        "vector_1 = np.random.rand(10)\n",
        "vector = np.round(vector_1,2)\n",
        "vector"
      ],
      "metadata": {
        "id": "jxA_lG2_VIMe",
        "outputId": "cd47637c-a7ac-456e-b5ed-bb76d5849596",
        "colab": {
          "base_uri": "https://localhost:8080/"
        }
      },
      "execution_count": 23,
      "outputs": [
        {
          "output_type": "execute_result",
          "data": {
            "text/plain": [
              "array([0.39, 0.84, 0.25, 0.79, 0.54, 0.82, 0.51, 0.23, 0.83, 0.3 ])"
            ]
          },
          "metadata": {},
          "execution_count": 23
        }
      ]
    },
    {
      "cell_type": "code",
      "source": [
        "# друге завдання\n",
        "matrix = np.array([[11, 14, 17],\n",
        "                   [20, 23, 26],\n",
        "                   [29, 32, 35]])\n",
        "matrix"
      ],
      "metadata": {
        "id": "ifrnXqPgvfCK",
        "outputId": "a523b819-4d8d-4517-b2a4-53882b9ef96f",
        "colab": {
          "base_uri": "https://localhost:8080/"
        }
      },
      "execution_count": 24,
      "outputs": [
        {
          "output_type": "execute_result",
          "data": {
            "text/plain": [
              "array([[11, 14, 17],\n",
              "       [20, 23, 26],\n",
              "       [29, 32, 35]])"
            ]
          },
          "metadata": {},
          "execution_count": 24
        }
      ]
    },
    {
      "cell_type": "code",
      "source": [
        "vector.shape, matrix.shape"
      ],
      "metadata": {
        "id": "NCUHpU5lwENl",
        "outputId": "bf39c42d-d6da-4407-a0ee-66d5c2d4c88a",
        "colab": {
          "base_uri": "https://localhost:8080/"
        }
      },
      "execution_count": 25,
      "outputs": [
        {
          "output_type": "execute_result",
          "data": {
            "text/plain": [
              "((10,), (3, 3))"
            ]
          },
          "metadata": {},
          "execution_count": 25
        }
      ]
    },
    {
      "cell_type": "markdown",
      "source": [
        "\n",
        "### Завдання 2: Операції над векторами та матрицями\n",
        "Виконайте кожну з зазначених операцій над зазначеними оʼєктами і виведіть результат на екран:\n",
        "1. Додайте до кожного значення вектора `vector` число 10 і округліть кожне значення до 2 знаків після коми без використання циклів.\n",
        "2. Помножте кожен елемент матриці з першого завдання на 2 без використання циклів.\n",
        "3. Створіть новий вектор, який містить квадрат кожного `vector` без циклів.\n"
      ],
      "metadata": {
        "id": "TSJ1P4OuOVe2"
      }
    },
    {
      "cell_type": "code",
      "source": [
        "#2.1\n",
        "\n",
        "vector_aug = vector + 10\n",
        "\n",
        "matrix_aug = matrix + 10\n",
        "matrix_aug, vector_aug"
      ],
      "metadata": {
        "id": "nAAojtyUVJXN",
        "outputId": "c2fdeeb6-aef8-4d8c-91cd-62048318a655",
        "colab": {
          "base_uri": "https://localhost:8080/"
        }
      },
      "execution_count": 26,
      "outputs": [
        {
          "output_type": "execute_result",
          "data": {
            "text/plain": [
              "(array([[21, 24, 27],\n",
              "        [30, 33, 36],\n",
              "        [39, 42, 45]]),\n",
              " array([10.39, 10.84, 10.25, 10.79, 10.54, 10.82, 10.51, 10.23, 10.83,\n",
              "        10.3 ]))"
            ]
          },
          "metadata": {},
          "execution_count": 26
        }
      ]
    },
    {
      "cell_type": "code",
      "source": [
        "#2.2\n",
        "\n",
        "\n",
        "vector_mult = vector * 2\n",
        "\n",
        "matrix_mult = matrix * 2\n",
        "matrix_mult, vector_mult"
      ],
      "metadata": {
        "id": "mf0nWl9TxFW0",
        "outputId": "e33a5f57-ed7e-4c10-bd69-9b11b4d0f4be",
        "colab": {
          "base_uri": "https://localhost:8080/"
        }
      },
      "execution_count": 27,
      "outputs": [
        {
          "output_type": "execute_result",
          "data": {
            "text/plain": [
              "(array([[22, 28, 34],\n",
              "        [40, 46, 52],\n",
              "        [58, 64, 70]]),\n",
              " array([0.78, 1.68, 0.5 , 1.58, 1.08, 1.64, 1.02, 0.46, 1.66, 0.6 ]))"
            ]
          },
          "metadata": {},
          "execution_count": 27
        }
      ]
    },
    {
      "cell_type": "code",
      "source": [
        "#2.3\n",
        "\n",
        "squared_vector = vector ** 2\n",
        "squared_matrix = matrix ** 2\n",
        "squared_matrix, squared_vector"
      ],
      "metadata": {
        "id": "da5Iq6KbxWp2",
        "outputId": "be4d6b72-c140-4b88-8563-f24386b00dc6",
        "colab": {
          "base_uri": "https://localhost:8080/"
        }
      },
      "execution_count": 28,
      "outputs": [
        {
          "output_type": "execute_result",
          "data": {
            "text/plain": [
              "(array([[ 121,  196,  289],\n",
              "        [ 400,  529,  676],\n",
              "        [ 841, 1024, 1225]]),\n",
              " array([0.1521, 0.7056, 0.0625, 0.6241, 0.2916, 0.6724, 0.2601, 0.0529,\n",
              "        0.6889, 0.09  ]))"
            ]
          },
          "metadata": {},
          "execution_count": 28
        }
      ]
    },
    {
      "cell_type": "markdown",
      "source": [
        "\n",
        "### Завдання 3: Множення матриць\n",
        "1. Задані дві матриці `A` і `B`розмірностями 3x2 та 2х3. Виконайте їхнє множення, щоб отримати матрицю 2x2. Виведіть результуючу матрицю `result_matrix` на екран.\n",
        "\n",
        "2. Заданий вектор `C` розмірністю 2х1. Подумайте спочатку, яку розмірність Ви отрмаєте, коли домножите `result_matrix` на вектор `C` і який результат буде. А потім виконайте множення і виведіть результат на екран.\n",
        "\n",
        "3. Задана матриця `D` розмірністю 2х2. Подумайте спочатку, яку розмірність Ви отрмаєте, коли домножите `result_matrix` на матрицю `D` і який результат буде. А потім виконайте множення і виведіть результат на екран."
      ],
      "metadata": {
        "id": "u6RvWVfhPy-k"
      }
    },
    {
      "cell_type": "code",
      "source": [
        "A = np.array(\n",
        "    [[0.18, 0.53],\n",
        "     [0.75, 0.47],\n",
        "     [0.35, 0.21]])\n",
        "\n",
        "B = np.array(\n",
        "    [[0.17, 0.58, 0.75],\n",
        "     [0.38, 0.11, 0.15]])\n",
        "\n",
        "C = np.array([[0], [1]])\n",
        "\n",
        "D = np.array([[0,1], [1,0]])\n",
        "\n",
        "display(A, B, C, D)"
      ],
      "metadata": {
        "id": "RwXfPzlbSJ44",
        "outputId": "8a2644d0-06d7-4c40-9b95-b7c82c4852dc",
        "colab": {
          "base_uri": "https://localhost:8080/",
          "height": 170
        }
      },
      "execution_count": 29,
      "outputs": [
        {
          "output_type": "display_data",
          "data": {
            "text/plain": [
              "array([[0.18, 0.53],\n",
              "       [0.75, 0.47],\n",
              "       [0.35, 0.21]])"
            ]
          },
          "metadata": {}
        },
        {
          "output_type": "display_data",
          "data": {
            "text/plain": [
              "array([[0.17, 0.58, 0.75],\n",
              "       [0.38, 0.11, 0.15]])"
            ]
          },
          "metadata": {}
        },
        {
          "output_type": "display_data",
          "data": {
            "text/plain": [
              "array([[0],\n",
              "       [1]])"
            ]
          },
          "metadata": {}
        },
        {
          "output_type": "display_data",
          "data": {
            "text/plain": [
              "array([[0, 1],\n",
              "       [1, 0]])"
            ]
          },
          "metadata": {}
        }
      ]
    },
    {
      "cell_type": "code",
      "source": [
        "#3.1\n",
        "\n",
        "result_matrix = B @ A\n",
        "result_matrix, result_matrix.shape"
      ],
      "metadata": {
        "id": "z7-boTbhVKkj",
        "outputId": "8dae9494-b069-47e8-d893-10b751e5e5f1",
        "colab": {
          "base_uri": "https://localhost:8080/"
        }
      },
      "execution_count": 38,
      "outputs": [
        {
          "output_type": "execute_result",
          "data": {
            "text/plain": [
              "(array([[0.7281, 0.5202],\n",
              "        [0.2034, 0.2846]]),\n",
              " (2, 2))"
            ]
          },
          "metadata": {},
          "execution_count": 38
        }
      ]
    },
    {
      "cell_type": "code",
      "source": [
        "#3.2\n",
        "\n",
        "result_matrix_C = result_matrix @ C\n",
        "result_matrix_C, result_matrix_C.shape\n",
        "\n",
        "# Я думала, що результат буде 2х2, але вийшло 2х1"
      ],
      "metadata": {
        "id": "DmXVZ3He6Psh",
        "outputId": "d3e95cd8-981c-4702-f54f-91c1822747dd",
        "colab": {
          "base_uri": "https://localhost:8080/"
        }
      },
      "execution_count": 44,
      "outputs": [
        {
          "output_type": "execute_result",
          "data": {
            "text/plain": [
              "(array([[0.5202],\n",
              "        [0.2846]]),\n",
              " (2, 1))"
            ]
          },
          "metadata": {},
          "execution_count": 44
        }
      ]
    },
    {
      "cell_type": "code",
      "source": [
        "#3.3\n",
        "\n",
        "result_matrix_D = result_matrix @ D\n",
        "result_matrix_D, result_matrix_D.shape\n",
        "# матриці С та Д мають однакову к-ть рядків та стовпців. При множені result_matrix @ D я отримала результат 2х2.\n",
        "#Тому можу припустити, що при множені на С яотримала результат 2х1 через те. що в першій колонці значення було нульове"
      ],
      "metadata": {
        "id": "UHCiTa6W7OcV",
        "outputId": "a969c0f8-7bb1-4f03-a8a6-9f7bfbd7d046",
        "colab": {
          "base_uri": "https://localhost:8080/"
        }
      },
      "execution_count": 46,
      "outputs": [
        {
          "output_type": "execute_result",
          "data": {
            "text/plain": [
              "(array([[0.5202, 0.7281],\n",
              "        [0.2846, 0.2034]]),\n",
              " (2, 2))"
            ]
          },
          "metadata": {},
          "execution_count": 46
        }
      ]
    },
    {
      "cell_type": "markdown",
      "source": [
        "\n",
        "### Завдання 4: Транспонування матриць\n",
        "1. Транспонуйте `result_matrix`.\n",
        "2. Зробіть транспонування вектора `vector` і виведіть форму нової структури. Чи бачите ви зміну?\n",
        "3. Використайте операцію `numpy.expand_dims` над вектором `vector` з аргументом axis=1. Запишіть отриманий результат в змінну `column_vector` і виведіть на екран. Порівняйте з `vector`.\n",
        "4. Зробіть транспонування `column_vector`, виведіть результат на екран разом з розмірностями отриманої структури.\n",
        "\n",
        "\n"
      ],
      "metadata": {
        "id": "wohp0_cxSGpl"
      }
    },
    {
      "cell_type": "code",
      "source": [
        "#4.1\n",
        "\n",
        "result_matrix_transpos = result_matrix.T\n",
        "result_matrix_transpos"
      ],
      "metadata": {
        "id": "4hFcq1baVLii",
        "outputId": "680a2cb3-57a2-4ed9-b638-b8b4eab0a4a0",
        "colab": {
          "base_uri": "https://localhost:8080/"
        }
      },
      "execution_count": 49,
      "outputs": [
        {
          "output_type": "execute_result",
          "data": {
            "text/plain": [
              "array([[0.7281, 0.2034],\n",
              "       [0.5202, 0.2846]])"
            ]
          },
          "metadata": {},
          "execution_count": 49
        }
      ]
    },
    {
      "cell_type": "code",
      "source": [
        "#4.2\n",
        "\n",
        "vector_transpos = vector.T\n",
        "vector_transpos, vector_transpos.shape\n",
        "\n",
        "#змін після транспонування не бачу, по шейпу також без змін"
      ],
      "metadata": {
        "id": "oVLWFkls8P2V",
        "outputId": "153bbed2-eb63-4d91-d3ac-f46efe0febc1",
        "colab": {
          "base_uri": "https://localhost:8080/"
        }
      },
      "execution_count": 56,
      "outputs": [
        {
          "output_type": "execute_result",
          "data": {
            "text/plain": [
              "(array([0.39, 0.84, 0.25, 0.79, 0.54, 0.82, 0.51, 0.23, 0.83, 0.3 ]), (10,))"
            ]
          },
          "metadata": {},
          "execution_count": 56
        }
      ]
    },
    {
      "cell_type": "code",
      "source": [
        "vector, vector.shape"
      ],
      "metadata": {
        "id": "P-UVSeoN8yUV",
        "outputId": "3531b766-0912-44bd-cc59-9278b70a8fc2",
        "colab": {
          "base_uri": "https://localhost:8080/"
        }
      },
      "execution_count": 54,
      "outputs": [
        {
          "output_type": "execute_result",
          "data": {
            "text/plain": [
              "(array([0.39, 0.84, 0.25, 0.79, 0.54, 0.82, 0.51, 0.23, 0.83, 0.3 ]), (10,))"
            ]
          },
          "metadata": {},
          "execution_count": 54
        }
      ]
    },
    {
      "cell_type": "code",
      "source": [
        "#4.3\n",
        "\n",
        "column_vector = np.expand_dims(vector_transpos, axis = 1)\n",
        "column_vector, column_vector.shape\n",
        "# тепер можна бачити зміну матриця має розмірність 10х1, в той час, як просто vector має розмірність 10. Тобто ми додали колонку"
      ],
      "metadata": {
        "id": "YqOcivAo9Nfr",
        "outputId": "09624f02-3803-4a87-dd89-553d52fa9064",
        "colab": {
          "base_uri": "https://localhost:8080/"
        }
      },
      "execution_count": 62,
      "outputs": [
        {
          "output_type": "execute_result",
          "data": {
            "text/plain": [
              "(array([[0.39],\n",
              "        [0.84],\n",
              "        [0.25],\n",
              "        [0.79],\n",
              "        [0.54],\n",
              "        [0.82],\n",
              "        [0.51],\n",
              "        [0.23],\n",
              "        [0.83],\n",
              "        [0.3 ]]),\n",
              " (10, 1))"
            ]
          },
          "metadata": {},
          "execution_count": 62
        }
      ]
    },
    {
      "cell_type": "code",
      "source": [
        "#4.4\n",
        "\n",
        "column_vector_transpos = column_vector.T\n",
        "column_vector_transpos, column_vector_transpos.shape\n",
        "\n",
        "# після транспонування vector має розмірність 1х10"
      ],
      "metadata": {
        "id": "oZpaTuMV-TcC",
        "outputId": "e2bd9f32-fb79-4a7d-f1fd-9a3e322bc0ae",
        "colab": {
          "base_uri": "https://localhost:8080/"
        }
      },
      "execution_count": 65,
      "outputs": [
        {
          "output_type": "execute_result",
          "data": {
            "text/plain": [
              "(array([[0.39, 0.84, 0.25, 0.79, 0.54, 0.82, 0.51, 0.23, 0.83, 0.3 ]]),\n",
              " (1, 10))"
            ]
          },
          "metadata": {},
          "execution_count": 65
        }
      ]
    }
  ]
}